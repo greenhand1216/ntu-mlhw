{
 "cells": [
  {
   "cell_type": "code",
   "execution_count": 1,
   "metadata": {},
   "outputs": [],
   "source": [
    "import numpy as np\n",
    "import matplotlib.pyplot as plt\n",
    "\n",
    "def data(n, p=0.2):\n",
    "    #产生20个随机数\n",
    "    X = np.random.uniform(-1, 1, size=(n))\n",
    "    #产生(X, y)，注意有p的误差\n",
    "    y = np.sign(X)\n",
    "    prob = np.random.uniform(0, 1, n)\n",
    "    y[prob < p] *= -1\n",
    "    return X, y\n",
    "\n",
    "#产生theta，注意这里只要取n个点相邻两点间的点n-1个点以及两侧的两个点即可\n",
    "def Theta(X):\n",
    "    theta = (X[1:] + X[:-1]) / 2\n",
    "    theta = np.r_[[X[0] - 1], theta]\n",
    "    theta = np.r_[theta, [X[-1] + 1]]\n",
    "    \n",
    "    #修改维度后范围\n",
    "    return theta.reshape(-1, 1)\n",
    "\n",
    "def decision_stump(X, y):\n",
    "    #排序\n",
    "    X1 = np.sort(X)\n",
    "    #计算theta\n",
    "    theta = Theta(X1)\n",
    "    #向量化执行计算\n",
    "    n = theta.shape[0]\n",
    "    m = X.shape[0]\n",
    "    #将X复制按横轴n份\n",
    "    X = np.tile(X, (n, 1))\n",
    "    #s=1\n",
    "    y1 = np.sign(X - theta)\n",
    "    #s=-1\n",
    "    y2 = np.sign(X - theta) * (-1)\n",
    "    #统计错误\n",
    "    error1 = np.sum(y1!=y, axis = 1)\n",
    "    error2 = np.sum(y2!=y, axis = 1)\n",
    "    #计算最小错误对应的下标\n",
    "    i1 = np.argmin(error1)\n",
    "    i2 = np.argmin(error2)\n",
    "    #判断哪个误差更小\n",
    "    if error1[i1] < error2[i2]:\n",
    "        s = 1\n",
    "        t = theta[i1][0]\n",
    "        error = error1[i1] / m\n",
    "    else:\n",
    "        s = -1\n",
    "        t = theta[i2][0]\n",
    "        error = error2[i2] / m\n",
    "    return s, t, error"
   ]
  },
  {
   "cell_type": "code",
   "execution_count": 2,
   "metadata": {},
   "outputs": [],
   "source": [
    "Ein = []\n",
    "Eout = []\n",
    "n = 20\n",
    "m = 5000\n",
    "for i in range(m):\n",
    "    X, y = data(n)\n",
    "    s, t, ein = decision_stump(X, y)\n",
    "    #计算eout\n",
    "    eout = 0.5 + 0.3 * s * (np.abs(t) - 1)\n",
    "    Ein.append(ein)\n",
    "    Eout.append(eout)"
   ]
  },
  {
   "cell_type": "code",
   "execution_count": 3,
   "metadata": {},
   "outputs": [
    {
     "data": {
      "image/png": "[encoded data removed]",
      "text/plain": [
       "<Figure size 432x288 with 1 Axes>"
      ]
     },
     "metadata": {
      "needs_background": "light"
     },
     "output_type": "display_data"
    },
    {
     "name": "stdout",
     "output_type": "stream",
     "text": [
      "0.17018\n"
     ]
    }
   ],
   "source": [
    "#Problem 17\n",
    "plt.hist(Ein)\n",
    "plt.title('Ein')\n",
    "plt.show()\n",
    "\n",
    "print(np.mean(Ein))"
   ]
  },
  {
   "cell_type": "code",
   "execution_count": 4,
   "metadata": {},
   "outputs": [
    {
     "data": {
      "image/png": "[encoded data removed]",
      "text/plain": [
       "<Figure size 432x288 with 1 Axes>"
      ]
     },
     "metadata": {
      "needs_background": "light"
     },
     "output_type": "display_data"
    },
    {
     "name": "stdout",
     "output_type": "stream",
     "text": [
      "0.25670740955846166\n"
     ]
    }
   ],
   "source": [
    "#Problem 18\n",
    "plt.hist(Eout)\n",
    "plt.title('Eout')\n",
    "plt.show()\n",
    "\n",
    "print(np.mean(Eout))"
   ]
  }
 ],
 "metadata": {
  "interpreter": {
   "hash": "57baa5815c940fdaff4d14510622de9616cae602444507ba5d0b6727c008cbd6"
  },
  "kernelspec": {
   "display_name": "Python 3.7.5 64-bit",
   "name": "python3"
  },
  "language_info": {
   "codemirror_mode": {
    "name": "ipython",
    "version": 3
   },
   "file_extension": ".py",
   "mimetype": "text/x-python",
   "name": "python",
   "nbconvert_exporter": "python",
   "pygments_lexer": "ipython3",
   "version": "3.7.5"
  },
  "orig_nbformat": 4
 },
 "nbformat": 4,
 "nbformat_minor": 2
}
