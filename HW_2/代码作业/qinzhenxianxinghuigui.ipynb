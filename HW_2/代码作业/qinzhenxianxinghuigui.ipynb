{
 "cells": [
  {
   "cell_type": "code",
   "execution_count": 5,
   "metadata": {},
   "outputs": [
    {
     "name": "stdout",
     "output_type": "stream",
     "text": [
      "[[-0.73698444 -0.80960184]\n",
      " [-0.74031313 -0.87669694]\n",
      " [-0.30810509 -0.46864533]\n",
      " ...\n",
      " [ 0.23137755  0.21470258]\n",
      " [-0.67132677  0.33225116]\n",
      " [ 0.23164839  0.46975142]]\n",
      "\n",
      "\n",
      "[ 1. -1. -1.  1.  1. -1. -1.  1. -1. -1.  1. -1.  1.  1. -1.  1.  1. -1.\n",
      " -1.  1.  1.  1.  1. -1. -1. -1. -1.  1.  1.  1.  1. -1.  1.  1. -1.  1.\n",
      " -1. -1.  1.  1. -1. -1. -1. -1.  1. -1. -1.  1.  1.  1.  1. -1. -1.  1.\n",
      "  1. -1. -1. -1. -1. -1. -1.  1. -1. -1.  1.  1.  1.  1. -1.  1. -1. -1.\n",
      "  1.  1. -1. -1.  1. -1.  1.  1. -1.  1.  1. -1.  1. -1. -1.  1. -1.  1.\n",
      " -1. -1. -1.  1.  1. -1.  1.  1. -1.  1. -1. -1.  1.  1. -1.  1. -1.  1.\n",
      "  1. -1.  1.  1.  1. -1.  1.  1.  1. -1.  1.  1.  1.  1. -1. -1.  1. -1.\n",
      " -1.  1.  1.  1. -1. -1. -1.  1. -1.  1.  1. -1.  1. -1.  1.  1. -1. -1.\n",
      "  1.  1. -1.  1. -1.  1. -1. -1. -1.  1. -1. -1. -1.  1.  1.  1.  1.  1.\n",
      " -1. -1. -1.  1.  1. -1. -1. -1.  1.  1.  1.  1. -1.  1. -1.  1. -1. -1.\n",
      "  1. -1.  1.  1. -1.  1. -1. -1.  1.  1. -1. -1.  1.  1. -1. -1.  1. -1.\n",
      "  1. -1. -1.  1.  1.  1.  1. -1. -1. -1.  1.  1.  1.  1.  1.  1.  1. -1.\n",
      " -1.  1. -1.  1.  1.  1.  1. -1.  1.  1. -1.  1.  1. -1. -1. -1. -1.  1.\n",
      " -1.  1.  1. -1. -1. -1.  1. -1. -1.  1.  1. -1. -1.  1.  1.  1.  1. -1.\n",
      " -1.  1.  1.  1.  1.  1.  1. -1.  1. -1.  1.  1. -1. -1.  1. -1.  1.  1.\n",
      "  1. -1. -1.  1. -1.  1. -1. -1.  1. -1.  1.  1.  1.  1.  1. -1.  1.  1.\n",
      "  1.  1.  1. -1.  1.  1. -1.  1. -1.  1.  1. -1. -1. -1.  1. -1. -1.  1.\n",
      "  1. -1. -1. -1.  1.  1. -1. -1. -1. -1. -1. -1.  1. -1.  1. -1.  1.  1.\n",
      " -1.  1.  1.  1. -1. -1. -1. -1.  1.  1.  1.  1.  1.  1.  1. -1. -1. -1.\n",
      "  1.  1. -1. -1.  1. -1. -1. -1. -1. -1.  1.  1. -1. -1. -1.  1.  1. -1.\n",
      " -1.  1.  1.  1.  1.  1. -1.  1.  1.  1. -1.  1.  1.  1.  1.  1.  1. -1.\n",
      "  1. -1. -1.  1.  1.  1.  1. -1. -1.  1.  1. -1. -1.  1.  1.  1. -1.  1.\n",
      " -1.  1. -1. -1. -1. -1.  1.  1. -1. -1. -1. -1.  1.  1.  1.  1.  1.  1.\n",
      "  1.  1.  1. -1. -1.  1. -1.  1.  1.  1.  1. -1.  1.  1.  1.  1. -1. -1.\n",
      "  1. -1. -1.  1. -1. -1.  1. -1. -1. -1.  1.  1.  1. -1.  1.  1.  1.  1.\n",
      "  1.  1.  1.  1.  1.  1. -1.  1.  1. -1.  1. -1.  1. -1. -1.  1.  1. -1.\n",
      " -1. -1.  1. -1. -1. -1.  1.  1. -1. -1. -1.  1. -1. -1. -1. -1. -1. -1.\n",
      "  1. -1.  1.  1.  1.  1.  1. -1.  1.  1.  1. -1.  1. -1. -1. -1. -1. -1.\n",
      "  1.  1.  1. -1.  1.  1. -1. -1. -1. -1.  1.  1. -1.  1.  1.  1. -1.  1.\n",
      " -1.  1. -1. -1.  1.  1.  1.  1. -1.  1. -1. -1. -1.  1. -1.  1. -1.  1.\n",
      "  1. -1. -1. -1. -1. -1. -1.  1.  1. -1.  1.  1.  1.  1.  1. -1.  1.  1.\n",
      "  1. -1. -1.  1.  1.  1. -1.  1. -1.  1.  1.  1. -1.  1. -1. -1.  1. -1.\n",
      " -1. -1.  1.  1.  1. -1.  1.  1.  1.  1. -1.  1.  1.  1. -1.  1. -1.  1.\n",
      "  1.  1.  1.  1.  1. -1. -1.  1.  1.  1. -1.  1.  1. -1. -1.  1. -1.  1.\n",
      "  1.  1.  1.  1. -1.  1. -1. -1. -1. -1. -1.  1. -1.  1. -1. -1.  1. -1.\n",
      " -1. -1.  1. -1. -1.  1.  1. -1.  1.  1.  1.  1.  1. -1. -1. -1. -1. -1.\n",
      "  1. -1. -1. -1.  1. -1. -1.  1. -1.  1. -1.  1.  1.  1. -1.  1. -1. -1.\n",
      " -1.  1.  1.  1. -1. -1.  1. -1.  1.  1. -1. -1. -1.  1.  1.  1.  1.  1.\n",
      " -1.  1. -1.  1. -1.  1.  1. -1.  1. -1. -1. -1.  1. -1.  1. -1. -1. -1.\n",
      " -1. -1. -1.  1.  1.  1. -1. -1. -1. -1. -1.  1. -1. -1.  1. -1.  1. -1.\n",
      "  1.  1.  1. -1.  1.  1. -1.  1. -1. -1.  1. -1.  1.  1.  1. -1. -1.  1.\n",
      " -1.  1.  1.  1.  1. -1. -1. -1.  1. -1. -1.  1.  1.  1. -1.  1.  1.  1.\n",
      " -1. -1. -1.  1.  1. -1.  1.  1.  1. -1.  1.  1.  1.  1. -1. -1. -1.  1.\n",
      " -1. -1.  1. -1. -1.  1.  1. -1.  1.  1.  1.  1.  1.  1. -1. -1.  1.  1.\n",
      " -1. -1. -1.  1.  1.  1.  1. -1.  1. -1. -1.  1.  1.  1.  1.  1. -1.  1.\n",
      " -1. -1. -1. -1.  1.  1. -1.  1. -1. -1.  1.  1.  1. -1. -1.  1.  1.  1.\n",
      "  1. -1.  1. -1.  1.  1. -1.  1.  1.  1. -1.  1.  1. -1. -1.  1.  1. -1.\n",
      " -1.  1.  1.  1. -1.  1. -1.  1. -1. -1. -1. -1.  1.  1.  1.  1.  1.  1.\n",
      "  1.  1. -1.  1.  1. -1.  1.  1. -1.  1. -1. -1.  1.  1. -1. -1.  1.  1.\n",
      " -1. -1. -1.  1. -1.  1. -1.  1. -1.  1. -1.  1. -1.  1.  1.  1.  1.  1.\n",
      "  1.  1.  1. -1.  1. -1.  1.  1.  1. -1. -1. -1. -1.  1.  1. -1.  1.  1.\n",
      " -1. -1. -1. -1.  1. -1.  1.  1.  1. -1.  1. -1. -1.  1.  1. -1.  1.  1.\n",
      " -1. -1.  1. -1. -1. -1. -1.  1. -1.  1.  1. -1.  1. -1.  1. -1. -1.  1.\n",
      "  1.  1. -1.  1.  1. -1. -1. -1. -1. -1.  1.  1. -1. -1. -1.  1. -1.  1.\n",
      "  1. -1. -1. -1. -1.  1. -1.  1.  1. -1.  1.  1. -1. -1.  1.  1. -1.  1.\n",
      " -1. -1.  1.  1.  1. -1. -1. -1. -1. -1.]\n"
     ]
    }
   ],
   "source": [
    "import numpy as np\n",
    "import matplotlib.pyplot as plt\n",
    "from numpy.linalg import inv\n",
    "from sklearn.preprocessing import PolynomialFeatures\n",
    "plt.rcParams['font.sans-serif']=['SimHei'] #用来正常显示中文标签\n",
    "plt.rcParams['axes.unicode_minus']=False #用来正常显示负号\n",
    "\n",
    "#产生n组点\n",
    "def generate(n, p=0.1):\n",
    "    X = np.random.uniform(-1, 1, size=(n, 2))\n",
    "    y = np.sign(np.sum(X ** 2, axis=1) - 0.6)\n",
    "    #翻转\n",
    "    P = np.random.uniform(0, 1, n)\n",
    "    y[P < p] *= -1\n",
    "    #产生数据\n",
    "    return X, y\n",
    "\n",
    "#数据数量\n",
    "n = 1000\n",
    "#实验次数\n",
    "m = 1000     \n",
    "X, y = generate(n)\n",
    "print(X)\n",
    "print(\"\\n\")\n",
    "print(y)\n",
    "#plt.scatter(X[y>0][:, 0], X[y>0][:, 1], s=1)\n",
    "#plt.scatter(X[y<0][:, 0], X[y<0][:, 1], s=1)\n",
    "#plt.show()"
   ]
  },
  {
   "cell_type": "code",
   "execution_count": 2,
   "metadata": {},
   "outputs": [
    {
     "name": "stdout",
     "output_type": "stream",
     "text": [
      "0.50681\n"
     ]
    },
    {
     "data": {
      "image/png": "[encoded data removed]",
      "text/plain": [
       "<Figure size 432x288 with 1 Axes>"
      ]
     },
     "metadata": {
      "needs_background": "light"
     },
     "output_type": "display_data"
    }
   ],
   "source": [
    "#Problem 13\n",
    "Ein = np.array([])\n",
    "for i in range(m):\n",
    "    X, y = generate(n)\n",
    "    X = np.c_[np.ones(n), X]\n",
    "\n",
    "    w = inv(X.T.dot(X)).dot(X.T).dot(y)\n",
    "\n",
    "    ein = np.mean(np.sign(X.dot(w) * y) < 0 )\n",
    "    Ein = np.append(Ein, ein)\n",
    "\n",
    "print(np.average(Ein))\n",
    "plt.hist(Ein)\n",
    "plt.title('Ein without feature transform')\n",
    "plt.show()\n"
   ]
  },
  {
   "cell_type": "code",
   "execution_count": 3,
   "metadata": {},
   "outputs": [
    {
     "data": {
      "image/png": "[encoded data removed]",
      "text/plain": [
       "<Figure size 432x288 with 1 Axes>"
      ]
     },
     "metadata": {
      "needs_background": "light"
     },
     "output_type": "display_data"
    },
    {
     "name": "stdout",
     "output_type": "stream",
     "text": [
      "w3的均值-0.0013137628451122322\n",
      "w的均值[-9.92458498e-01  2.39596030e-03  9.13118391e-04  1.55861227e+00\n",
      " -1.31376285e-03  1.55872911e+00]\n"
     ]
    }
   ],
   "source": [
    "#Problem 14\n",
    "#多项式转换器\n",
    "poly = PolynomialFeatures(2)\n",
    "W = []\n",
    "Eout = np.array([])\n",
    "Ein = np.array([])\n",
    "for i in range(m):\n",
    "    X, y = generate(n)\n",
    "    X_poly = poly.fit_transform(X)\n",
    "    \n",
    "    w_poly = inv(X_poly.T.dot(X_poly)).dot(X_poly.T).dot(y)\n",
    "\n",
    "    ein = np.mean(np.sign(X_poly.dot(w_poly) * y) < 0)\n",
    "    Ein = np.append(Ein, ein)\n",
    "    #测试数据\n",
    "    X_test, y_test = generate(n)\n",
    "    X_test_poly = poly.fit_transform(X_test)\n",
    "    eout = np.mean(np.sign(X_test_poly.dot(w_poly) * y_test) < 0)\n",
    "    Eout  = np.append(Eout, eout)\n",
    "    \n",
    "    #记录w\n",
    "    W.append(w_poly)\n",
    "\n",
    "W = np.array(W)\n",
    "w3 = W[:, 4]\n",
    "plt.hist(w3)\n",
    "plt.title('w3')\n",
    "plt.show()\n",
    "print(\"w3的均值{}\".format(w3.mean()))\n",
    "print(\"w的均值\" + str(np.mean(W, axis=0)))"
   ]
  },
  {
   "cell_type": "code",
   "execution_count": 4,
   "metadata": {},
   "outputs": [
    {
     "data": {
      "image/png": "[encoded data removed]",
      "text/plain": [
       "<Figure size 432x288 with 1 Axes>"
      ]
     },
     "metadata": {
      "needs_background": "light"
     },
     "output_type": "display_data"
    },
    {
     "name": "stdout",
     "output_type": "stream",
     "text": [
      "0.126333\n"
     ]
    }
   ],
   "source": [
    "#Problem 15\n",
    "plt.hist(Eout)\n",
    "plt.title('Eout with feature transform')\n",
    "plt.show()\n",
    "print(Eout.mean())"
   ]
  }
 ],
 "metadata": {
  "interpreter": {
   "hash": "57baa5815c940fdaff4d14510622de9616cae602444507ba5d0b6727c008cbd6"
  },
  "kernelspec": {
   "display_name": "Python 3.7.5 64-bit",
   "name": "python3"
  },
  "language_info": {
   "codemirror_mode": {
    "name": "ipython",
    "version": 3
   },
   "file_extension": ".py",
   "mimetype": "text/x-python",
   "name": "python",
   "nbconvert_exporter": "python",
   "pygments_lexer": "ipython3",
   "version": "3.7.5"
  },
  "orig_nbformat": 4
 },
 "nbformat": 4,
 "nbformat_minor": 2
}
