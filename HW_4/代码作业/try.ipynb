{
 "cells": [
  {
   "cell_type": "code",
   "execution_count": 36,
   "metadata": {},
   "outputs": [],
   "source": [
    "import numpy as np\n",
    "from sklearn.preprocessing import PolynomialFeatures"
   ]
  },
  {
   "cell_type": "code",
   "execution_count": 37,
   "metadata": {},
   "outputs": [],
   "source": [
    "def preprocess(data):\n",
    "    #維度\n",
    "    n, d = data.shape\n",
    "    #剝離X\n",
    "    X = data[:, :-1]\n",
    "    #偏置項1\n",
    "    #X = np.c_[np.ones(n), X]\n",
    "    #剝離y\n",
    "    y = data[:, -1]\n",
    "    \n",
    "    return X, y"
   ]
  },
  {
   "cell_type": "code",
   "execution_count": null,
   "metadata": {},
   "outputs": [],
   "source": [
    "#將網頁上的資料下載到桌面，存儲到同一個目錄下，打開命名\n",
    "train = np.genfromtxt('hw4_train.dat.txt')\n",
    "test = np.genfromtxt('hw4_test.dat.txt')\n",
    "X_train, y_train = preprocess(train)\n",
    "X_test1, y_test = preprocess(test)\n",
    "#X_test\n",
    "#y_test\n",
    "reg = PolynomialFeatures(degree=3) \n",
    "X_test=reg.fit_transform(X_test1)\n",
    "X_test"
   ]
  },
  {
   "cell_type": "code",
   "execution_count": 58,
   "metadata": {},
   "outputs": [
    {
     "data": {
      "text/plain": [
       "array([-2.1539, -0.2103,  1.6674,  0.469 ,  0.9755, -2.9343,  1.    ])"
      ]
     },
     "execution_count": 58,
     "metadata": {},
     "output_type": "execute_result"
    }
   ],
   "source": [
    "np.genfromtxt('hw4_train.dat.txt',skip_header=0, skip_footer=119)"
   ]
  },
  {
   "cell_type": "code",
   "execution_count": null,
   "metadata": {},
   "outputs": [],
   "source": [
    "f = open(\"hw4_train.dat.txt\",\"r\")   #设置文件对象\n",
    "for i in range(120):\n",
    "    print(f.readline().strip())\n"
   ]
  },
  {
   "cell_type": "code",
   "execution_count": 39,
   "metadata": {},
   "outputs": [
    {
     "name": "stdout",
     "output_type": "stream",
     "text": [
      "[[0 1 2 3 4]\n",
      " [5 6 7 8 9]]\n",
      "[[  1.   0.   1.   2.   3.   4.   0.   0.   0.   0.   0.   1.   2.   3.\n",
      "    4.   4.   6.   8.   9.  12.  16.   0.   0.   0.   0.   0.   0.   0.\n",
      "    0.   0.   0.   0.   0.   0.   0.   0.   1.   2.   3.   4.   4.   6.\n",
      "    8.   9.  12.  16.   8.  12.  16.  18.  24.  32.  27.  36.  48.  64.]\n",
      " [  1.   5.   6.   7.   8.   9.  25.  30.  35.  40.  45.  36.  42.  48.\n",
      "   54.  49.  56.  63.  64.  72.  81. 125. 150. 175. 200. 225. 180. 210.\n",
      "  240. 270. 245. 280. 315. 320. 360. 405. 216. 252. 288. 324. 294. 336.\n",
      "  378. 384. 432. 486. 343. 392. 441. 448. 504. 567. 512. 576. 648. 729.]]\n"
     ]
    }
   ],
   "source": [
    "import numpy as np\n",
    "from sklearn.preprocessing import PolynomialFeatures  #用于生成多项式\n",
    "x=np.arange(10).reshape(2,5) #生成三行二列数组\n",
    "reg = PolynomialFeatures(degree=3) \n",
    "y=reg.fit_transform(x)\n",
    "print(x)\n",
    "print(y)\n",
    "\n",
    "\n"
   ]
  },
  {
   "cell_type": "code",
   "execution_count": 40,
   "metadata": {},
   "outputs": [
    {
     "name": "stdout",
     "output_type": "stream",
     "text": [
      "Accuracy = 97.375% (779/800) (classification)\n",
      "Accuracy = 97.375% (779/800) (classification)\n",
      "Accuracy = 96.125% (769/800) (classification)\n",
      "Accuracy = 94.625% (757/800) (classification)\n",
      "Accuracy = 86.25% (690/800) (classification)\n"
     ]
    }
   ],
   "source": [
    "import liblinear\n",
    "from liblinear.liblinearutil import *\n",
    "import scipy\n",
    "#Problem 12\n",
    "#cheating means use data from \"Eout\"\n",
    "#c=1/(2*lamda)\n",
    "\n",
    "#lamda=0.0001\n",
    "m=train(y_test,X_test,'-s 0 -c 5000 -e 0.000001')\n",
    "p_labs,p_acc,p_vals=predict(y_test,X_test,m)\n",
    "\n",
    "#lamda=0.01\n",
    "m=train(y_test,X_test,'-s 0 -c 50 -e 0.000001')\n",
    "p_labs,p_acc,p_vals=predict(y_test,X_test,m)\n",
    "\n",
    "#lamda=1\n",
    "m=train(y_test,X_test,'-s 0 -c 0.5 -e 0.000001')\n",
    "p_labs,p_acc,p_vals=predict(y_test,X_test,m)\n",
    "\n",
    "#lamda=100\n",
    "m=train(y_test,X_test,'-s 0 -c 0.005 -e 0.000001')\n",
    "p_labs,p_acc,p_vals=predict(y_test,X_test,m)\n",
    "\n",
    "#lamda=10000\n",
    "m=train(y_test,X_test,'-s 0 -c 0.00005 -e 0.000001')\n",
    "p_labs,p_acc,p_vals=predict(y_test,X_test,m)\n",
    "\n"
   ]
  },
  {
   "cell_type": "code",
   "execution_count": 41,
   "metadata": {},
   "outputs": [
    {
     "name": "stdout",
     "output_type": "stream",
     "text": [
      "Accuracy = 77.5% (155/200) (classification)\n",
      "Accuracy = 77.5% (155/200) (classification)\n",
      "Accuracy = 77% (154/200) (classification)\n",
      "Accuracy = 75% (150/200) (classification)\n",
      "Accuracy = 71% (142/200) (classification)\n"
     ]
    }
   ],
   "source": [
    "\n",
    "#Problem 13\n",
    "\n",
    "#lamda=0.0001\n",
    "m=train(y_train,X_train,'-s 0 -c 5000 -e 0.000001')\n",
    "p_labs,p_acc,p_vals=predict(y_train,X_train,m)\n",
    "\n",
    "#lamda=0.01\n",
    "m=train(y_train,X_train,'-s 0 -c 50 -e 0.000001')\n",
    "p_labs,p_acc,p_vals=predict(y_train,X_train,m)\n",
    "\n",
    "#lamda=1\n",
    "m=train(y_train,X_train,'-s 0 -c 0.5 -e 0.000001')\n",
    "p_labs,p_acc,p_vals=predict(y_train,X_train,m)\n",
    "\n",
    "#lamda=100\n",
    "m=train(y_train,X_train,'-s 0 -c 0.005 -e 0.000001')\n",
    "p_labs,p_acc,p_vals=predict(y_train,X_train,m)\n",
    "\n",
    "#lamda=10000\n",
    "m=train(y_train,X_train,'-s 0 -c 0.00005 -e 0.000001')\n",
    "p_labs,p_acc,p_vals=predict(y_train,X_train,m)\n"
   ]
  },
  {
   "cell_type": "code",
   "execution_count": 53,
   "metadata": {},
   "outputs": [
    {
     "name": "stdout",
     "output_type": "stream",
     "text": [
      "Accuracy = 75.8333% (91/120) (classification)\n",
      "Accuracy = 75.8333% (91/120) (classification)\n",
      "Accuracy = 75.8333% (91/120) (classification)\n",
      "Accuracy = 75% (90/120) (classification)\n",
      "Accuracy = 73.3333% (88/120) (classification)\n"
     ]
    }
   ],
   "source": [
    "#Problem 14\n",
    "#120 train 和 80val \n",
    "train1 = np.genfromtxt('hw4_train.dat1.txt')#前120筆\n",
    "X_train, y_train = preprocess(train1)\n",
    "\n",
    "#lamda=0.0001\n",
    "m=train(y_train,X_train,'-s 0 -c 5000 -e 0.000001')\n",
    "p_labs,p_acc,p_vals=predict(y_train,X_train,m)\n",
    "\n",
    "#lamda=0.01\n",
    "m=train(y_train,X_train,'-s 0 -c 50 -e 0.000001')\n",
    "p_labs,p_acc,p_vals=predict(y_train,X_train,m)\n",
    "\n",
    "#lamda=1\n",
    "m=train(y_train,X_train,'-s 0 -c 0.5 -e 0.000001')\n",
    "p_labs,p_acc,p_vals=predict(y_train,X_train,m)\n",
    "\n",
    "#lamda=100\n",
    "m=train(y_train,X_train,'-s 0 -c 0.005 -e 0.000001')\n",
    "p_labs,p_acc,p_vals=predict(y_train,X_train,m)\n",
    "\n",
    "#lamda=10000\n",
    "m=train(y_train,X_train,'-s 0 -c 0.00005 -e 0.000001')\n",
    "p_labs,p_acc,p_vals=predict(y_train,X_train,m)\n"
   ]
  },
  {
   "cell_type": "code",
   "execution_count": 54,
   "metadata": {},
   "outputs": [
    {
     "name": "stdout",
     "output_type": "stream",
     "text": [
      "Accuracy = 81.25% (65/80) (classification)\n",
      "Accuracy = 81.25% (65/80) (classification)\n",
      "Accuracy = 81.25% (65/80) (classification)\n",
      "Accuracy = 76.25% (61/80) (classification)\n",
      "Accuracy = 73.75% (59/80) (classification)\n"
     ]
    }
   ],
   "source": [
    "#Problem 14\n",
    "#120 train 和 80val \n",
    "train1 = np.genfromtxt('hw4_train.dat2.txt')#後80筆\n",
    "X_train, y_train = preprocess(train1)\n",
    "\n",
    "#lamda=0.0001\n",
    "m=train(y_train,X_train,'-s 0 -c 5000 -e 0.000001')\n",
    "p_labs,p_acc,p_vals=predict(y_train,X_train,m)\n",
    "\n",
    "#lamda=0.01\n",
    "m=train(y_train,X_train,'-s 0 -c 50 -e 0.000001')\n",
    "p_labs,p_acc,p_vals=predict(y_train,X_train,m)\n",
    "\n",
    "#lamda=1\n",
    "m=train(y_train,X_train,'-s 0 -c 0.5 -e 0.000001')\n",
    "p_labs,p_acc,p_vals=predict(y_train,X_train,m)\n",
    "\n",
    "#lamda=100\n",
    "m=train(y_train,X_train,'-s 0 -c 0.005 -e 0.000001')\n",
    "p_labs,p_acc,p_vals=predict(y_train,X_train,m)\n",
    "\n",
    "#lamda=10000\n",
    "m=train(y_train,X_train,'-s 0 -c 0.00005 -e 0.000001')\n",
    "p_labs,p_acc,p_vals=predict(y_train,X_train,m)"
   ]
  },
  {
   "cell_type": "code",
   "execution_count": 52,
   "metadata": {},
   "outputs": [
    {
     "name": "stdout",
     "output_type": "stream",
     "text": [
      "Accuracy = 96.375% (771/800) (classification)\n"
     ]
    }
   ],
   "source": [
    "#lamda=0.01\n",
    "m=train(y_test,X_test,'-s 0 -c 0.05 -e 0.000001')\n",
    "p_labs,p_acc,p_vals=predict(y_test,X_test,m)"
   ]
  },
  {
   "cell_type": "code",
   "execution_count": 43,
   "metadata": {},
   "outputs": [
    {
     "name": "stdout",
     "output_type": "stream",
     "text": [
      "Accuracy = 75.8333% (91/120) (classification)\n",
      "Accuracy = 75.8333% (91/120) (classification)\n",
      "Accuracy = 75.8333% (91/120) (classification)\n",
      "Accuracy = 75% (90/120) (classification)\n",
      "Accuracy = 73.3333% (88/120) (classification)\n"
     ]
    }
   ],
   "source": [
    "\n",
    "#Problem 15\n",
    "#convert from Dtrain to D\n",
    "\n",
    "#lamda=0.0001\n",
    "m=train(y_train,X_train,'-s 0 -c 5000 -e 0.000001')\n",
    "p_labs,p_acc,p_vals=predict(y_train,X_train,m)\n",
    "\n",
    "#lamda=0.01\n",
    "m=train(y_train,X_train,'-s 0 -c 50 -e 0.000001')\n",
    "p_labs,p_acc,p_vals=predict(y_train,X_train,m)\n",
    "\n",
    "#lamda=1\n",
    "m=train(y_train,X_train,'-s 0 -c 0.5 -e 0.000001')\n",
    "p_labs,p_acc,p_vals=predict(y_train,X_train,m)\n",
    "\n",
    "#lamda=100\n",
    "m=train(y_train,X_train,'-s 0 -c 0.005 -e 0.000001')\n",
    "p_labs,p_acc,p_vals=predict(y_train,X_train,m)\n",
    "\n",
    "#lamda=10000\n",
    "m=train(y_train,X_train,'-s 0 -c 0.00005 -e 0.000001')\n",
    "p_labs,p_acc,p_vals=predict(y_train,X_train,m)\n"
   ]
  },
  {
   "cell_type": "code",
   "execution_count": 62,
   "metadata": {},
   "outputs": [
    {
     "name": "stdout",
     "output_type": "stream",
     "text": [
      "Accuracy = 82.5% (33/40) (classification)\n",
      "Accuracy = 82.5% (33/40) (classification)\n",
      "Accuracy = 82.5% (33/40) (classification)\n",
      "Accuracy = 82.5% (33/40) (classification)\n",
      "Accuracy = 82.5% (33/40) (classification)\n"
     ]
    }
   ],
   "source": [
    "\n",
    "#Problem 16\n",
    "#for lamda=0.0001,0.01,1,100,10000\n",
    "#40+40+40+40+40=5*40=200\n",
    "train1=np.genfromtxt('hw4_train.dat.txt',skip_header=0, skip_footer=160)\n",
    "X_train1, y_train = preprocess(train1)\n",
    "reg = PolynomialFeatures(degree=3) \n",
    "X_train=reg.fit_transform(X_train1)\n",
    "#train2=np.genfromtxt('hw4_train.dat.txt',skip_header=40, skip_footer=120)\n",
    "#X_train, y_train = preprocess(train2)\n",
    "#train3=np.genfromtxt('hw4_train.dat.txt',skip_header=80, skip_footer=80)\n",
    "#X_train, y_train = preprocess(train3)\n",
    "#train4=np.genfromtxt('hw4_train.dat.txt',skip_header=120, skip_footer=40)\n",
    "#X_train, y_train = preprocess(train4)\n",
    "#train5=np.genfromtxt('hw4_train.dat.txt',skip_header=160, skip_footer=0)\n",
    "#X_train, y_train = preprocess(train5)\n",
    "\n",
    "#lamda=0.0001\n",
    "m=train(y_train,X_train,'-s 0 -c 5000 -e 0.000001')\n",
    "p_labs,p_acc,p_vals=predict(y_train,X_train,m)\n",
    "\n",
    "#lamda=0.01\n",
    "m=train(y_train,X_train,'-s 0 -c 50 -e 0.000001')\n",
    "p_labs,p_acc,p_vals=predict(y_train,X_train,m)\n",
    "\n",
    "#lamda=1\n",
    "m=train(y_train,X_train,'-s 0 -c 0.5 -e 0.000001')\n",
    "p_labs,p_acc,p_vals=predict(y_train,X_train,m)\n",
    "\n",
    "#lamda=100\n",
    "m=train(y_train,X_train,'-s 0 -c 0.005 -e 0.000001')\n",
    "p_labs,p_acc,p_vals=predict(y_train,X_train,m)\n",
    "\n",
    "#lamda=10000\n",
    "m=train(y_train,X_train,'-s 0 -c 0.00005 -e 0.000001')\n",
    "p_labs,p_acc,p_vals=predict(y_train,X_train,m)\n",
    "\n"
   ]
  }
 ],
 "metadata": {
  "interpreter": {
   "hash": "57baa5815c940fdaff4d14510622de9616cae602444507ba5d0b6727c008cbd6"
  },
  "kernelspec": {
   "display_name": "Python 3.7.5 64-bit",
   "language": "python",
   "name": "python3"
  },
  "language_info": {
   "codemirror_mode": {
    "name": "ipython",
    "version": 3
   },
   "file_extension": ".py",
   "mimetype": "text/x-python",
   "name": "python",
   "nbconvert_exporter": "python",
   "pygments_lexer": "ipython3",
   "version": "3.7.5"
  },
  "orig_nbformat": 4
 },
 "nbformat": 4,
 "nbformat_minor": 2
}
