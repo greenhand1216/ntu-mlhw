{
 "cells": [
  {
   "cell_type": "code",
   "execution_count": 67,
   "metadata": {},
   "outputs": [],
   "source": [
    "import matplotlib.pyplot as plt\n",
    "import numpy as np\n",
    "from sklearn import svm\n",
    "from libsvm.svmutil import *\n",
    "import scipy\n",
    "import pandas as pd\n"
   ]
  },
  {
   "cell_type": "code",
   "execution_count": 76,
   "metadata": {},
   "outputs": [
    {
     "data": {
      "text/plain": [
       "<1x36 sparse matrix of type '<class 'numpy.float64'>'\n",
       "\twith 34 stored elements in Compressed Sparse Row format>"
      ]
     },
     "execution_count": 76,
     "metadata": {},
     "output_type": "execute_result"
    }
   ],
   "source": [
    "#train\n",
    "y_train,X_train=svm_read_problem('satimage.scale.txt',return_scipy=True)\n",
    "X_train[0:1, :]"
   ]
  },
  {
   "cell_type": "code",
   "execution_count": 79,
   "metadata": {},
   "outputs": [
    {
     "data": {
      "text/plain": [
       "array([[-0.03125   ,  0.0181818 , -0.047619  , -0.140496  , -0.225806  ,\n",
       "        -0.0545455 , -0.0315789 , -0.1875    , -0.375     ,  0.0873786 ,\n",
       "         0.0526316 , -0.1875    ,  0.        ,  0.        , -0.0652174 ,\n",
       "        -0.220339  , -0.28125   , -0.0679612 , -0.0361446 , -0.203252  ,\n",
       "        -0.138462  ,  0.0873786 ,  0.2       , -0.072     ,  0.3125    ,\n",
       "         0.230769  ,  0.0804598 , -0.0833333 , -0.169231  , -0.128713  ,\n",
       "        -0.284211  , -0.234375  , -0.28125   ,  0.00970874, -0.0315789 ,\n",
       "        -0.125     ],\n",
       "       [-0.03125   ,  0.0909091 ,  0.047619  , -0.206612  ,  0.290323  ,\n",
       "         0.309091  ,  0.221053  , -0.078125  ,  0.375     ,  0.553398  ,\n",
       "         0.431579  ,  0.046875  ,  0.129032  ,  0.538462  ,  0.304348  ,\n",
       "         0.        ,  0.09375   ,  0.475728  ,  0.373494  ,  0.00813008,\n",
       "         0.107692  ,  0.398058  ,  0.311111  ,  0.072     ,  0.0625    ,\n",
       "         0.403846  ,  0.356322  , -0.0333333 , -0.0461538 ,  0.445545  ,\n",
       "         0.305263  , -0.015625  , -0.1875    ,  0.339806  ,  0.221053  ,\n",
       "        -0.015625  ],\n",
       "       [-0.03125   ,  0.236364  ,  0.238095  , -0.0909091 ,  0.        ,\n",
       "         0.381818  ,  0.326316  , -0.015625  , -0.125     ,  0.553398  ,\n",
       "         0.431579  , -0.015625  ,  0.        ,  0.461538  ,  0.413043  ,\n",
       "         0.        , -0.03125   ,  0.553398  ,  0.493976  ,  0.00813008,\n",
       "        -0.0153846 ,  0.553398  ,  0.511111  ,  0.072     , -0.1875    ,\n",
       "         0.576923  ,  0.471264  , -0.0333333 , -0.0461538 ,  0.524752  ,\n",
       "         0.410526  , -0.015625  , -0.1875    ,  0.495146  ,  0.515789  ,\n",
       "        -0.015625  ],\n",
       "       [-0.03125   ,  0.309091  ,  0.285714  ,  0.00826446, -0.129032  ,\n",
       "        -0.0909091 , -0.0105263 , -0.21875   , -0.28125   , -0.242718  ,\n",
       "        -0.157895  , -0.21875   , -0.129032  ,  0.346154  ,  0.326087  ,\n",
       "        -0.0338983 , -0.15625   ,  0.106796  ,  0.0843373 , -0.138211  ,\n",
       "         0.0769231 ,  0.262136  ,  0.222222  , -0.024     ,  0.125     ,\n",
       "         0.519231  ,  0.425287  ,  0.        ,  0.138462  ,  0.485149  ,\n",
       "         0.284211  ,  0.078125  ,  0.25      ,  0.631068  ,  0.578947  ,\n",
       "         0.140625  ],\n",
       "       [-0.03125   ,  0.309091  ,  0.380952  ,  0.0743802 ,  0.129032  ,\n",
       "         0.472727  ,  0.557895  ,  0.078125  , -0.03125   ,  0.398058  ,\n",
       "         0.263158  ,  0.015625  , -0.0322581 ,  0.442308  ,  0.326087  ,\n",
       "         0.0338983 , -0.0625    ,  0.533981  ,  0.39759   , -0.0243902 ,\n",
       "        -0.138462  ,  0.359223  ,  0.422222  , -0.024     ,  0.        ,\n",
       "         0.519231  ,  0.425287  ,  0.        ,  0.138462  ,  0.663366  ,\n",
       "         0.368421  ,  0.015625  ,  0.125     ,  0.533981  ,  0.368421  ,\n",
       "         0.015625  ]])"
      ]
     },
     "execution_count": 79,
     "metadata": {},
     "output_type": "execute_result"
    }
   ],
   "source": [
    "#train\n",
    "y_train,X_train=svm_read_problem('satimage.scale.txt',return_scipy=True)\n",
    "\n",
    "#test\n",
    "y_test,X_test=svm_read_problem('satimage.scale.t',return_scipy=True)\n",
    "\n",
    "#m = svm_train(y_test[:200], X_test[:200, :], '-c 4')\n",
    "\n",
    "c = X_train[0:5, :].tocoo()\n",
    "c.toarray()\n",
    "\n",
    "#c.data\n",
    "#b=c.data\n",
    "#b.reshape(36,1999)\n",
    "#b[:2]\n",
    "#X_test[:2, :]\n",
    "#print(X_test[:2, :])"
   ]
  }
 ],
 "metadata": {
  "interpreter": {
   "hash": "57baa5815c940fdaff4d14510622de9616cae602444507ba5d0b6727c008cbd6"
  },
  "kernelspec": {
   "display_name": "Python 3.7.5 64-bit",
   "language": "python",
   "name": "python3"
  },
  "language_info": {
   "codemirror_mode": {
    "name": "ipython",
    "version": 3
   },
   "file_extension": ".py",
   "mimetype": "text/x-python",
   "name": "python",
   "nbconvert_exporter": "python",
   "pygments_lexer": "ipython3",
   "version": "3.7.5"
  },
  "orig_nbformat": 4
 },
 "nbformat": 4,
 "nbformat_minor": 2
}
