{
 "cells": [
  {
   "cell_type": "code",
   "execution_count": 1,
   "metadata": {},
   "outputs": [],
   "source": [
    "import numpy as np\n",
    "import matplotlib.pyplot as plt\n",
    "from numpy.linalg import inv\n",
    "from sklearn.preprocessing import PolynomialFeatures\n",
    "plt.rcParams['font.sans-serif']=['SimHei'] #用来正常显示中文标签\n",
    "plt.rcParams['axes.unicode_minus']=False #用来正常显示负号\n",
    "import random"
   ]
  },
  {
   "cell_type": "code",
   "execution_count": 12,
   "metadata": {},
   "outputs": [
    {
     "name": "stdout",
     "output_type": "stream",
     "text": [
      "[ 1. -1.  1. -1. -1. -1.  1.  1.  1.  1.  1.  1. -1.  1.  1. -1. -1.  1.\n",
      " -1. -1. -1. -1. -1. -1.  1. -1.  1. -1.  1.  1.  1. -1.  1.  1.  1.  1.\n",
      " -1. -1.  1. -1. -1. -1. -1. -1. -1.  1. -1. -1.  1. -1.  1. -1.  1. -1.\n",
      " -1. -1. -1. -1.  1.  1. -1. -1. -1.  1.  1. -1. -1. -1.  1.  1.  1.  1.\n",
      " -1.  1. -1. -1.  1. -1. -1.  1.  1.  1.  1.  1. -1. -1.  1. -1. -1. -1.\n",
      "  1. -1. -1. -1. -1.  1. -1. -1.  1. -1. -1. -1. -1. -1.  1. -1.  1. -1.\n",
      "  1.  1. -1. -1. -1.  1.  1.  1.  1.  1. -1.  1. -1. -1. -1.  1. -1. -1.\n",
      "  1.  1. -1. -1.  1.  1.  1.  1.  1.  1. -1.  1.  1.  1.  1.  1.  1. -1.\n",
      " -1.  1.  1.  1.  1. -1. -1. -1.  1. -1.  1.  1.  1. -1. -1. -1.  1. -1.\n",
      "  1. -1. -1. -1. -1. -1.  1.  1.  1.  1. -1. -1.  1. -1.  1. -1. -1.  1.\n",
      " -1.  1. -1. -1. -1.  1. -1.  1.  1. -1. -1. -1.  1. -1.  1.  1. -1.  1.\n",
      "  1.  1.]\n"
     ]
    }
   ],
   "source": [
    "import numpy as np\n",
    "\n",
    "def preprocess(X):\n",
    "    \"\"\"\n",
    "    添加偏置项\n",
    "    \"\"\"\n",
    "    n = X.shape[0]\n",
    "    return np.c_[np.ones(n), X]\n",
    "\n",
    "def generate(n):\n",
    "    data=[]\n",
    "    y=random.choice([-1, 1])\n",
    "    if y==1:\n",
    "        mean = (2, 3)\n",
    "        cov = [[0.6, 0], [0, 0.6]]\n",
    "        data = np.random.multivariate_normal(mean, cov, 1, 'raise')\n",
    "        data = np.c_[data,np.ones(1)]\n",
    "    if y==-1:\n",
    "        mean = (0, 4)\n",
    "        cov = [[0.4, 0], [0, 0.4]]\n",
    "        data = np.random.multivariate_normal(mean, cov, 1, 'raise')\n",
    "        data = np.c_[data,np.ones(1)*-1]\n",
    "\n",
    "    for i in range(n-1):\n",
    "        y=random.choice([-1, 1])\n",
    "        if y==1:\n",
    "            mean = (2, 3)\n",
    "            cov = [[0.6, 0], [0, 0.6]]\n",
    "            data = np.append(data,np.c_[np.random.multivariate_normal(mean, cov, 1, 'raise'),np.ones(1)],0)\n",
    "        if y==-1:\n",
    "            mean = (0, 4)\n",
    "            cov = [[0.4, 0], [0, 0.4]]\n",
    "            data = np.append(data,np.c_[np.random.multivariate_normal(mean, cov, 1, 'raise'),np.ones(1)*-1],0)\n",
    "    X = data[:, :-1]    \n",
    "    y = data[:, -1]    \n",
    "    return data\n",
    "\n",
    "\n",
    "\n",
    "\n",
    "print(generate(200)[:, -1].reshape(-1, 1))\n",
    "\n",
    "#X_train = data[:, :-1]#除去data最後一列的label\n",
    "#y_train = data_train[:, -1].reshape(-1, 1)#最後一列的label轉化成列向量\n",
    "#X_train = preprocess(X_train)\n"
   ]
  },
  {
   "cell_type": "code",
   "execution_count": null,
   "metadata": {},
   "outputs": [],
   "source": []
  }
 ],
 "metadata": {
  "interpreter": {
   "hash": "57baa5815c940fdaff4d14510622de9616cae602444507ba5d0b6727c008cbd6"
  },
  "kernelspec": {
   "display_name": "Python 3.7.5 64-bit",
   "name": "python3"
  },
  "language_info": {
   "codemirror_mode": {
    "name": "ipython",
    "version": 3
   },
   "file_extension": ".py",
   "mimetype": "text/x-python",
   "name": "python",
   "nbconvert_exporter": "python",
   "pygments_lexer": "ipython3",
   "version": "3.7.5"
  },
  "orig_nbformat": 4
 },
 "nbformat": 4,
 "nbformat_minor": 2
}
