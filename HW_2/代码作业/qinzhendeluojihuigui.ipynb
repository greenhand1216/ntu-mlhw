{
 "cells": [
  {
   "cell_type": "code",
   "execution_count": null,
   "metadata": {},
   "outputs": [],
   "source": [
    "import numpy as np\n",
    "\n",
    "def preprocess(X):\n",
    "    \"\"\"\n",
    "    添加偏置项\n",
    "    \"\"\"\n",
    "    n = X.shape[0]\n",
    "    return np.c_[np.ones(n), X]\n",
    "\n",
    "#数据读入\n",
    "data_train = np.genfromtxt(\"hw3_train.dat\")\n",
    "X_train = data_train[:, :-1]\n",
    "y_train = data_train[:, -1].reshape(-1, 1)\n",
    "X_train = preprocess(X_train)\n",
    "data_test = np.genfromtxt(\"hw3_test.dat\")\n",
    "X_test = data_test[:, :-1]\n",
    "y_test = data_test[:, -1].reshape(-1, 1)\n",
    "X_test = preprocess(X_test)\n",
    "\n",
    "#定义函数\n",
    "def sigmoid(s):\n",
    "    return 1 / (np.exp(-s) + 1)\n",
    "\n",
    "def gradient(X, w, y):\n",
    "    temp1 = - X.dot(w) * y\n",
    "    temp2 = sigmoid(temp1)\n",
    "    temp3 = - X * y\n",
    "    grad = np.mean(temp3 * temp2, axis=0).reshape(-1, 1)\n",
    "\n",
    "    return grad\n",
    "\n",
    "#数据组数和维度\n",
    "n, m = X_train.shape\n"
   ]
  },
  {
   "cell_type": "code",
   "execution_count": null,
   "metadata": {},
   "outputs": [],
   "source": [
    "\n",
    "#Problem 18\n",
    "w = np.zeros((m, 1))\n",
    "k = 0.001\n",
    "\n",
    "for i in range(2000):\n",
    "    grad = gradient(X_train, w, y_train)\n",
    "    w -= k * grad\n",
    "\n",
    "#计算标签\n",
    "y_test_pred = X_test.dot(w)\n",
    "y_test_pred[y_test_pred > 0] = 1\n",
    "y_test_pred[y_test_pred <= 0] = -1\n",
    "#计算Eout\n",
    "Eout = np.mean(y_test_pred != y_test)\n",
    "#求出误差\n",
    "print(Eout)\n",
    "print(w)\n",
    "\n"
   ]
  },
  {
   "cell_type": "code",
   "execution_count": null,
   "metadata": {},
   "outputs": [],
   "source": [
    "#Problem 19\n",
    "w = np.zeros((m, 1))\n",
    "k = 0.01\n",
    "\n",
    "for i in range(2000):\n",
    "    grad = gradient(X_train, w, y_train)\n",
    "    w -= k * grad\n",
    "\n",
    "#计算标签\n",
    "y_test_pred = X_test.dot(w)\n",
    "y_test_pred[y_test_pred > 0] = 1\n",
    "y_test_pred[y_test_pred <= 0] = -1\n",
    "#计算Eout\n",
    "Eout = np.mean(y_test_pred != y_test)\n",
    "#求出误差\n",
    "print(Eout)\n",
    "print(w)\n",
    "\n"
   ]
  },
  {
   "cell_type": "code",
   "execution_count": null,
   "metadata": {},
   "outputs": [],
   "source": [
    "#Problem 20\n",
    "w = np.zeros((m, 1))\n",
    "k = 0.001\n",
    "\n",
    "#计数器\n",
    "j = 0\n",
    "for i in range(2000):\n",
    "    x = X_train[j, :].reshape(1, -1)\n",
    "    s = gradient(x, w, y_train[j])\n",
    "    w -= k * s\n",
    "    #更新下标\n",
    "    j += 1\n",
    "    j = j % n\n",
    "\n",
    "#计算标签\n",
    "y_test_pred = X_test.dot(w)\n",
    "y_test_pred[y_test_pred > 0] = 1\n",
    "y_test_pred[y_test_pred <= 0] = -1\n",
    "#计算sign(Xw)\n",
    "Eout = np.mean(y_test_pred != y_test)\n",
    "#求出误差\n",
    "print(Eout)\n",
    "print(w)"
   ]
  }
 ],
 "metadata": {
  "interpreter": {
   "hash": "57baa5815c940fdaff4d14510622de9616cae602444507ba5d0b6727c008cbd6"
  },
  "kernelspec": {
   "display_name": "Python 3.7.5 64-bit",
   "name": "python3"
  },
  "language_info": {
   "codemirror_mode": {
    "name": "ipython",
    "version": 3
   },
   "file_extension": ".py",
   "mimetype": "text/x-python",
   "name": "python",
   "nbconvert_exporter": "python",
   "pygments_lexer": "ipython3",
   "version": "3.7.5"
  },
  "orig_nbformat": 4
 },
 "nbformat": 4,
 "nbformat_minor": 2
}
