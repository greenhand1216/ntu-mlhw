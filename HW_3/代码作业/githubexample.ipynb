{
 "cells": [
  {
   "cell_type": "code",
   "execution_count": 1,
   "metadata": {},
   "outputs": [],
   "source": [
    "import numpy as np\n",
    "import pandas as pd"
   ]
  },
  {
   "cell_type": "code",
   "execution_count": 2,
   "metadata": {},
   "outputs": [
    {
     "name": "stdout",
     "output_type": "stream",
     "text": [
      "[[ 0.27057159 -0.89505082]\n",
      " [-0.195462   -0.70301911]\n",
      " [ 0.75627652  0.38017181]\n",
      " ...\n",
      " [-0.93881415 -0.73166848]\n",
      " [ 0.51248708  0.53719216]\n",
      " [ 0.82216373  0.32821536]]\n",
      "\n",
      "\n",
      "[ 1. -1.  1.  1.  1.  1.  1.  1. -1.  1. -1. -1. -1.  1.  1.  1. -1.  1.\n",
      " -1. -1. -1. -1.  1.  1. -1. -1. -1.  1.  1.  1. -1. -1.  1. -1.  1.  1.\n",
      " -1.  1. -1. -1.  1.  1. -1.  1.  1. -1.  1. -1. -1. -1.  1. -1.  1.  1.\n",
      " -1.  1.  1.  1. -1.  1.  1.  1.  1.  1.  1.  1.  1. -1.  1. -1.  1.  1.\n",
      "  1. -1. -1.  1. -1. -1. -1.  1.  1.  1. -1. -1.  1.  1.  1.  1. -1.  1.\n",
      "  1.  1.  1.  1. -1. -1.  1. -1.  1. -1.  1.  1.  1.  1.  1. -1.  1. -1.\n",
      " -1.  1.  1.  1. -1. -1. -1. -1. -1. -1.  1. -1. -1.  1.  1.  1. -1. -1.\n",
      "  1. -1.  1.  1. -1.  1.  1.  1.  1.  1.  1.  1. -1.  1. -1. -1. -1.  1.\n",
      " -1.  1. -1. -1. -1.  1.  1.  1. -1. -1. -1.  1. -1.  1.  1. -1. -1.  1.\n",
      "  1.  1.  1.  1.  1. -1. -1.  1. -1. -1.  1. -1.  1. -1.  1.  1. -1.  1.\n",
      " -1.  1. -1.  1. -1.  1. -1.  1.  1.  1. -1.  1. -1.  1. -1. -1.  1. -1.\n",
      "  1.  1.  1. -1. -1.  1. -1.  1.  1.  1. -1. -1. -1.  1.  1. -1. -1. -1.\n",
      " -1.  1. -1. -1. -1. -1.  1.  1.  1.  1.  1.  1.  1.  1.  1. -1.  1.  1.\n",
      "  1. -1.  1. -1. -1. -1.  1. -1.  1. -1. -1.  1. -1. -1. -1. -1.  1. -1.\n",
      "  1.  1.  1.  1.  1.  1.  1.  1. -1.  1. -1. -1.  1.  1.  1.  1.  1.  1.\n",
      " -1.  1. -1.  1.  1. -1.  1.  1.  1.  1.  1.  1. -1.  1.  1. -1. -1.  1.\n",
      "  1.  1.  1.  1. -1.  1.  1.  1. -1. -1. -1. -1.  1. -1. -1.  1. -1.  1.\n",
      " -1. -1. -1. -1. -1.  1.  1.  1.  1. -1. -1.  1.  1. -1. -1. -1. -1. -1.\n",
      "  1. -1.  1. -1. -1.  1. -1. -1.  1. -1. -1. -1.  1.  1. -1.  1.  1.  1.\n",
      " -1. -1. -1. -1.  1.  1. -1.  1.  1. -1. -1.  1. -1.  1. -1. -1.  1. -1.\n",
      "  1. -1. -1.  1. -1. -1.  1. -1. -1. -1.  1. -1. -1. -1.  1. -1.  1.  1.\n",
      " -1.  1.  1.  1. -1.  1. -1.  1.  1.  1.  1. -1. -1. -1. -1. -1. -1. -1.\n",
      "  1.  1.  1. -1.  1. -1.  1. -1. -1. -1. -1.  1.  1. -1.  1.  1. -1.  1.\n",
      " -1. -1. -1. -1. -1. -1.  1. -1. -1.  1.  1. -1.  1.  1. -1. -1.  1. -1.\n",
      "  1. -1. -1. -1.  1. -1. -1.  1.  1. -1. -1.  1. -1. -1.  1.  1. -1.  1.\n",
      " -1. -1. -1.  1. -1.  1. -1.  1. -1.  1.  1.  1.  1.  1. -1.  1. -1.  1.\n",
      " -1. -1.  1. -1.  1.  1.  1.  1. -1.  1.  1. -1. -1.  1.  1.  1. -1.  1.\n",
      " -1.  1.  1. -1. -1. -1.  1.  1. -1.  1.  1.  1.  1. -1. -1.  1.  1. -1.\n",
      "  1. -1. -1.  1.  1.  1. -1.  1.  1.  1.  1.  1. -1.  1.  1. -1.  1.  1.\n",
      "  1.  1. -1.  1. -1.  1.  1.  1. -1.  1.  1.  1.  1. -1. -1.  1. -1.  1.\n",
      "  1.  1.  1.  1.  1.  1. -1.  1.  1.  1. -1. -1. -1.  1.  1.  1.  1.  1.\n",
      "  1. -1. -1. -1.  1.  1.  1. -1. -1.  1.  1. -1. -1.  1.  1. -1.  1.  1.\n",
      "  1. -1.  1.  1.  1.  1.  1.  1.  1. -1. -1.  1. -1.  1. -1.  1.  1. -1.\n",
      "  1. -1. -1.  1.  1. -1. -1. -1.  1.  1.  1. -1.  1. -1. -1.  1.  1.  1.\n",
      "  1. -1. -1. -1.  1.  1. -1.  1.  1. -1.  1.  1.  1. -1. -1. -1. -1.  1.\n",
      "  1.  1.  1.  1. -1.  1. -1. -1.  1. -1. -1.  1.  1.  1.  1. -1.  1.  1.\n",
      " -1. -1.  1. -1. -1. -1.  1.  1.  1.  1.  1. -1.  1.  1. -1. -1.  1. -1.\n",
      " -1. -1.  1. -1.  1. -1.  1. -1. -1.  1. -1. -1.  1.  1.  1. -1. -1.  1.\n",
      " -1.  1. -1.  1. -1. -1. -1. -1.  1. -1.  1.  1.  1.  1.  1.  1.  1. -1.\n",
      "  1.  1. -1.  1. -1.  1.  1. -1. -1. -1. -1. -1.  1. -1. -1.  1. -1.  1.\n",
      " -1. -1.  1.  1.  1. -1. -1.  1.  1.  1.  1. -1.  1.  1.  1.  1.  1. -1.\n",
      "  1.  1. -1.  1. -1.  1. -1.  1. -1. -1.  1. -1. -1. -1. -1. -1. -1.  1.\n",
      "  1. -1. -1.  1. -1.  1. -1.  1.  1.  1. -1. -1.  1.  1.  1.  1. -1. -1.\n",
      " -1.  1.  1.  1.  1.  1. -1.  1.  1.  1. -1.  1. -1. -1.  1.  1.  1.  1.\n",
      "  1. -1. -1.  1. -1. -1.  1.  1.  1. -1.  1. -1.  1.  1.  1. -1.  1.  1.\n",
      "  1.  1. -1.  1.  1. -1. -1. -1. -1.  1.  1. -1.  1. -1. -1. -1.  1. -1.\n",
      "  1.  1.  1.  1. -1. -1.  1. -1. -1.  1. -1.  1.  1. -1.  1.  1.  1.  1.\n",
      "  1.  1.  1.  1. -1.  1.  1. -1. -1.  1. -1. -1.  1.  1.  1.  1.  1. -1.\n",
      " -1.  1. -1. -1. -1.  1.  1.  1.  1. -1. -1.  1. -1.  1. -1.  1. -1.  1.\n",
      "  1. -1.  1.  1. -1.  1. -1.  1. -1. -1.  1. -1. -1. -1. -1. -1. -1. -1.\n",
      " -1.  1. -1.  1. -1. -1.  1. -1.  1. -1.  1.  1. -1. -1.  1.  1. -1.  1.\n",
      "  1. -1. -1.  1.  1.  1.  1.  1. -1. -1.  1.  1. -1. -1.  1.  1.  1.  1.\n",
      " -1. -1. -1. -1. -1.  1.  1. -1. -1.  1. -1. -1. -1. -1. -1.  1. -1. -1.\n",
      "  1. -1. -1.  1.  1. -1. -1.  1.  1. -1. -1. -1.  1. -1. -1.  1. -1.  1.\n",
      "  1. -1. -1.  1.  1.  1. -1.  1.  1. -1. -1.  1.  1.  1.  1.  1.  1.  1.\n",
      "  1.  1.  1. -1.  1.  1. -1.  1. -1.  1.]\n"
     ]
    }
   ],
   "source": [
    "import numpy as np\n",
    "import matplotlib.pyplot as plt\n",
    "from numpy.linalg import inv\n",
    "from sklearn.preprocessing import PolynomialFeatures\n",
    "plt.rcParams['font.sans-serif']=['SimHei'] #用来正常显示中文标签\n",
    "plt.rcParams['axes.unicode_minus']=False #用来正常显示负号\n",
    "\n",
    "#产生n组点\n",
    "def generate(n, p=0.1):\n",
    "    X = np.random.uniform(-1, 1, size=(n, 2))\n",
    "    y = np.sign(np.sum(X ** 2, axis=1) - 0.6)\n",
    "    #翻转\n",
    "    P = np.random.uniform(0, 1, n)\n",
    "    y[P < p] *= -1\n",
    "    #产生数据\n",
    "    return X, y\n",
    "\n",
    "#数据数量\n",
    "n = 1000\n",
    "#实验次数\n",
    "m = 1000     \n",
    "X, y = generate(n)\n",
    "\n",
    "\n",
    "print(X)\n",
    "print(\"\\n\")\n",
    "print(y)\n",
    "#plt.scatter(X[y>0][:, 0], X[y>0][:, 1], s=1)\n",
    "#plt.scatter(X[y<0][:, 0], X[y<0][:, 1], s=1)\n",
    "#plt.show()\n"
   ]
  },
  {
   "cell_type": "code",
   "execution_count": 3,
   "metadata": {},
   "outputs": [
    {
     "name": "stdout",
     "output_type": "stream",
     "text": [
      "0.5065729999999999\n"
     ]
    },
    {
     "data": {
      "image/png": "[encoded data removed]",
      "text/plain": [
       "<Figure size 432x288 with 1 Axes>"
      ]
     },
     "metadata": {
      "needs_background": "light"
     },
     "output_type": "display_data"
    }
   ],
   "source": [
    "\n",
    "#Problem 13\n",
    "Ein = np.array([])\n",
    "for i in range(m):\n",
    "    X, y = generate(n)\n",
    "    X = np.c_[np.ones(n), X]\n",
    "\n",
    "    w = inv(X.T.dot(X)).dot(X.T).dot(y)\n",
    "\n",
    "    ein = np.mean(np.sign(X.dot(w) * y) < 0 )\n",
    "    Ein = np.append(Ein, ein)\n",
    "\n",
    "print(np.average(Ein))\n",
    "plt.hist(Ein)\n",
    "plt.title('Ein without feature transform')\n",
    "plt.show()\n"
   ]
  },
  {
   "cell_type": "code",
   "execution_count": 4,
   "metadata": {},
   "outputs": [
    {
     "data": {
      "image/png": "[encoded data removed]",
      "text/plain": [
       "<Figure size 432x288 with 1 Axes>"
      ]
     },
     "metadata": {
      "needs_background": "light"
     },
     "output_type": "display_data"
    },
    {
     "name": "stdout",
     "output_type": "stream",
     "text": [
      "w3的均值-0.0027628319478198477\n",
      "w的均值[-9.96746092e-01  1.22123558e-03 -1.38836562e-03  1.55989509e+00\n",
      " -2.76283195e-03  1.56176530e+00]\n"
     ]
    }
   ],
   "source": [
    "\n",
    "#Problem 14\n",
    "#多项式转换器\n",
    "poly = PolynomialFeatures(2)\n",
    "W = []\n",
    "Eout = np.array([])\n",
    "Ein = np.array([])\n",
    "for i in range(m):\n",
    "    X, y = generate(n)\n",
    "    X_poly = poly.fit_transform(X)\n",
    "    \n",
    "    w_poly = inv(X_poly.T.dot(X_poly)).dot(X_poly.T).dot(y)\n",
    "\n",
    "    ein = np.mean(np.sign(X_poly.dot(w_poly) * y) < 0)\n",
    "    Ein = np.append(Ein, ein)\n",
    "    #测试数据nn \n",
    "    X_test, y_test = generate(n)\n",
    "    X_test_poly = poly.fit_transform(X_test)\n",
    "    eout = np.mean(np.sign(X_test_poly.dot(w_poly) * y_test) < 0)\n",
    "    Eout  = np.append(Eout, eout)\n",
    "    \n",
    "    #记录w\n",
    "    W.append(w_poly)\n",
    "\n",
    "W = np.array(W)\n",
    "w3 = W[:, 4]\n",
    "plt.hist(w3)\n",
    "plt.title('w3')\n",
    "plt.show()\n",
    "print(\"w3的均值{}\".format(w3.mean()))\n",
    "print(\"w的均值\" + str(np.mean(W, axis=0)))\n"
   ]
  },
  {
   "cell_type": "code",
   "execution_count": 5,
   "metadata": {},
   "outputs": [
    {
     "data": {
      "image/png": "[encoded data removed]",
      "text/plain": [
       "<Figure size 432x288 with 1 Axes>"
      ]
     },
     "metadata": {
      "needs_background": "light"
     },
     "output_type": "display_data"
    },
    {
     "name": "stdout",
     "output_type": "stream",
     "text": [
      "0.126946\n"
     ]
    }
   ],
   "source": [
    "\n",
    "#Problem 15\n",
    "plt.hist(Eout)\n",
    "plt.title('Eout with feature transform')\n",
    "plt.show()\n",
    "print(Eout.mean())"
   ]
  },
  {
   "cell_type": "code",
   "execution_count": 6,
   "metadata": {},
   "outputs": [
    {
     "name": "stdout",
     "output_type": "stream",
     "text": [
      "39.99999999999999\n"
     ]
    }
   ],
   "source": [
    "def f(d,delta,Ein):\n",
    "    return (d+1)/(1-Ein/(delta**2))\n",
    "\n",
    "print(f(19,0.1,0.005))"
   ]
  }
 ],
 "metadata": {
  "interpreter": {
   "hash": "57baa5815c940fdaff4d14510622de9616cae602444507ba5d0b6727c008cbd6"
  },
  "kernelspec": {
   "display_name": "Python 3.7.5 64-bit",
   "language": "python",
   "name": "python3"
  },
  "language_info": {
   "codemirror_mode": {
    "name": "ipython",
    "version": 3
   },
   "file_extension": ".py",
   "mimetype": "text/x-python",
   "name": "python",
   "nbconvert_exporter": "python",
   "pygments_lexer": "ipython3",
   "version": "3.7.5"
  },
  "orig_nbformat": 4
 },
 "nbformat": 4,
 "nbformat_minor": 2
}
