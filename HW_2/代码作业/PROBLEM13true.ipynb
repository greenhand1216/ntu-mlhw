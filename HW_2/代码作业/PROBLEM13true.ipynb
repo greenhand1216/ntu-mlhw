{
 "cells": [
  {
   "cell_type": "code",
   "execution_count": 9,
   "metadata": {},
   "outputs": [
    {
     "data": {
      "image/png": "[encoded data removed]",
      "text/plain": [
       "<Figure size 432x288 with 1 Axes>"
      ]
     },
     "metadata": {
      "needs_background": "light"
     },
     "output_type": "display_data"
    }
   ],
   "source": [
    "import numpy as np\n",
    "import matplotlib.pyplot as plt#导入模块\n",
    "\n",
    "plt.hist(np.random.normal(loc=0.0, scale=1.0, size=1000), bins=30)#bins直方图的柱数\n",
    "plt.show()\n"
   ]
  },
  {
   "cell_type": "code",
   "execution_count": 11,
   "metadata": {},
   "outputs": [
    {
     "name": "stdout",
     "output_type": "stream",
     "text": [
      "[[[2.71358944 3.21094257]\n",
      "  [1.98050733 2.05703285]]]\n"
     ]
    }
   ],
   "source": [
    "import numpy as np;\n",
    "mean = (2, 3)\n",
    "cov = [[0.6, 0], [0, 0.6]]\n",
    "x1 = np.random.multivariate_normal(mean, cov, (1, 2), 'raise')\n",
    "mean = (0, 4)\n",
    "cov = [[0.4, 0], [0, 0.4]]\n",
    "x2 = np.random.multivariate_normal(mean, cov, (1, 200), 'raise')\n",
    "print(x1)\n",
    "#print(x2)"
   ]
  },
  {
   "cell_type": "code",
   "execution_count": 12,
   "metadata": {},
   "outputs": [
    {
     "name": "stdout",
     "output_type": "stream",
     "text": [
      "[[-0.9144  6.5451]\n",
      " [ 0.2893  3.2311]\n",
      " [ 7.991  11.3574]\n",
      " [ 8.6146 10.5595]\n",
      " [10.8055  1.2146]\n",
      " [14.0077  1.6491]]\n"
     ]
    }
   ],
   "source": [
    "import numpy as np\n",
    "import matplotlib.pyplot as plt\n",
    "\n",
    "\n",
    "def gen_clusters():\n",
    "    mean1 = [0,0]\n",
    "    cov1 = [[1,0],[0,10]]\n",
    "    data = np.random.multivariate_normal(mean1,cov1,2)\n",
    "    \n",
    "    mean2 = [10,10]\n",
    "    cov2 = [[10,0],[0,1]]\n",
    "    data = np.append(data,np.random.multivariate_normal(mean2,cov2,2),0)\n",
    "    \n",
    "    mean3 = [10,0]\n",
    "    cov3 = [[3,0],[0,4]]\n",
    "    data = np.append(data,np.random.multivariate_normal(mean3,cov3,2),0)\n",
    "    \n",
    "    return np.round(data,4)\n",
    "\n",
    "def save_data(data,filename):\n",
    "    with open(filename,'w') as file:\n",
    "        for i in range(data.shape[0]):\n",
    "            file.write(str(data[i,0])+','+str(data[i,1])+'\\n')\n",
    "            \n",
    "def load_data(filename):\n",
    "    data = []\n",
    "    with open(filename,'r') as file:\n",
    "        for line in file.readlines():\n",
    "            data.append([ float(i) for i in line.split(',')])\n",
    "    return np.array(data)\n",
    "\n",
    "def show_scatter(data):\n",
    "    x,y = data.T\n",
    "    plt.scatter(x,y)\n",
    "    plt.axis()\n",
    "    plt.title(\"scatter\")\n",
    "    plt.xlabel(\"x\")\n",
    "    plt.ylabel(\"y\")\n",
    "    \n",
    "data = gen_clusters()\n",
    "print(data)\n",
    "#save_data(data,'3clusters.txt')\n",
    "#d = load_data('3clusters.txt')\n",
    "#show_scatter(d)"
   ]
  },
  {
   "cell_type": "code",
   "execution_count": 17,
   "metadata": {},
   "outputs": [
    {
     "name": "stdout",
     "output_type": "stream",
     "text": [
      "[[ 2.26359578  3.64915538  1.        ]\n",
      " [-0.23864928  4.81173886  1.        ]]\n"
     ]
    }
   ],
   "source": [
    "mean = (0, 4)\n",
    "cov = [[0.4, 0], [0, 0.4]]\n",
    "data = np.random.multivariate_normal(mean, cov, 1, 'raise')\n",
    "#data = np.c_[data,np.ones(1)*-1]\n",
    "data = np.c_[data,np.ones(1)]\n",
    "#data = np.append(data,[[1]])\n",
    "data = np.append(data,np.c_[np.random.multivariate_normal(mean, cov, 1, 'raise'),np.ones(1)],0)\n",
    "#mean1 = (2, 3)\n",
    "#cov1 = [[0.6, 0], [0, 0.6]]\n",
    "#data = np.append(data,np.random.multivariate_normal(mean1, cov1, 1, 'raise'),0)\n",
    "print(data)"
   ]
  },
  {
   "cell_type": "code",
   "execution_count": 3,
   "metadata": {},
   "outputs": [],
   "source": [
    "def linear_regression(x_arr, y_arr, lam=0.2):\n",
    "    x_mat = np.mat(x_arr).T\n",
    "    y_mat = np.mat(y_arr).T\n",
    " \n",
    "    x_tx = x_mat.T * x_mat\n",
    "    denom = x_tx + np.eye(np.shape(x_mat)[1]) * lam\n",
    " \n",
    "    # if lam == 0.0\n",
    "    if np.linalg.det(denom) == 0.0:\n",
    "        print('This matrix is singular, cannot do inverse')\n",
    "        return\n",
    " \n",
    "    ws = denom.I * (x_mat.T * y_mat)\n",
    "    return ws"
   ]
  },
  {
   "cell_type": "code",
   "execution_count": 53,
   "metadata": {},
   "outputs": [
    {
     "name": "stdout",
     "output_type": "stream",
     "text": [
      "[0.  0.5 1. ]\n",
      "\n",
      "\n",
      "[0.74101644 1.59499816 2.56040662]\n"
     ]
    }
   ],
   "source": [
    "import numpy as np\n",
    "if __name__ == '__main__':\n",
    "    x_vals = np.linspace(0, 1, 3)\n",
    "    y_vals = x_vals + np.random.normal(0, 1, 3)\n",
    "    ws = linear_regression(x_vals, y_vals)\n",
    "    print(x_vals)\n",
    "    print(\"\\n\")\n",
    "    print(y_vals)\n",
    "    #predict =ws\n",
    "    #print(predict.A[0][0])\n",
    "    #print(predict.A)"
   ]
  },
  {
   "cell_type": "code",
   "execution_count": 54,
   "metadata": {},
   "outputs": [
    {
     "name": "stdout",
     "output_type": "stream",
     "text": [
      "0.5056109999999999\n"
     ]
    }
   ],
   "source": [
    "# coding=utf-8\n",
    "import numpy as np\n",
    "import random\n",
    "from sklearn.utils import shuffle\n",
    "\n",
    "def create_random_data(num=1000,error_rate=0.1):\n",
    "    data_mat=np.zeros([num,4])##data_mat是一个array类型\n",
    "    error_num=int(num*error_rate)\n",
    "    for i in range(num):\n",
    "        x1=random.uniform(-1,1)\n",
    "        x2=random.uniform(-1,1)\n",
    "        label=(1 if (x1**2+x2**2>=0.6) else -1)\n",
    "        data_mat[i][0]=1\n",
    "        data_mat[i][1]=x1\n",
    "        data_mat[i][2]=x2\n",
    "        data_mat[i][3]=label\n",
    "    for j in range(error_num):\n",
    "        data_mat[j][3]=-data_mat[j][3]\n",
    "        data_mat=shuffle(data_mat)\n",
    "        # random.shuffle(data_mat)千万小心random shuffle，洗牌之后可能出现重复项\n",
    "    data_feature=data_mat[:,:3]\n",
    "    data_lable=data_mat[:,3:]\n",
    "    return data_feature,data_lable\n",
    "def train_model(data_feature,data_lable):\n",
    "    X=np.mat(data_feature)\n",
    "    y=np.mat(data_lable)\n",
    "    # w=np.dot(np.dot(np.dot(X.T,X).I,X.T),data_lable)\n",
    "    w=np.linalg.inv(np.dot(X.T, X)).dot(X.T).dot(y)\n",
    "    return np.mat(w.T)\n",
    "def error_rate(w,data_feature,data_lable):\n",
    "    m,n=np.shape(data_feature)\n",
    "    num_error=0\n",
    "    for i in range(m):\n",
    "        score=np.dot(w,data_feature[i])[0,0]\n",
    "        if score*data_lable[i,0]<0:\n",
    "            num_error+=1\n",
    "    return num_error/float(m)\n",
    " #####验证代码\n",
    "total_rate=0.0\n",
    "for i in range(1000):\n",
    "    data_feature, data_lable = create_random_data()\n",
    "    w=train_model(data_feature,data_lable)\n",
    "    error=error_rate(w,data_feature,data_lable)\n",
    "    total_rate+=error\n",
    "print(total_rate/1000.0)\n"
   ]
  }
 ],
 "metadata": {
  "interpreter": {
   "hash": "57baa5815c940fdaff4d14510622de9616cae602444507ba5d0b6727c008cbd6"
  },
  "kernelspec": {
   "display_name": "Python 3.7.5 64-bit",
   "name": "python3"
  },
  "language_info": {
   "codemirror_mode": {
    "name": "ipython",
    "version": 3
   },
   "file_extension": ".py",
   "mimetype": "text/x-python",
   "name": "python",
   "nbconvert_exporter": "python",
   "pygments_lexer": "ipython3",
   "version": "3.7.5"
  },
  "orig_nbformat": 4
 },
 "nbformat": 4,
 "nbformat_minor": 2
}
