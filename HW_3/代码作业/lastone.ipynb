{
 "cells": [
  {
   "cell_type": "code",
   "execution_count": 1,
   "metadata": {},
   "outputs": [
    {
     "name": "stdout",
     "output_type": "stream",
     "text": [
      "-0.1323333333333333\n",
      "(7,)\n"
     ]
    }
   ],
   "source": [
    "import numpy as np\n",
    "import matplotlib.pyplot as plt\n",
    "from numpy.linalg import inv\n",
    "from sklearn.preprocessing import PolynomialFeatures\n",
    "import random\n",
    "import pandas as pd\n",
    "#將網頁上的資料下載到桌面，存儲到同一個目錄下，打開命名\n",
    "def train():\n",
    "    data = np.genfromtxt(\"hw3_train.dat.txt\")\n",
    "    X = data[:, :-1]    \n",
    "    y = data[:, -1] \n",
    "    #产生数据\n",
    "    #r, d = data.shape\n",
    "    #獲取幾行幾列\n",
    "    return X, y\n",
    "\n",
    "\n",
    "def test():\n",
    "    data = np.genfromtxt(\"hw3_test.dat.txt\")\n",
    "    X = data[:, :-1]    \n",
    "    y = data[:, -1] \n",
    "    #产生数据\n",
    "    #r, d = data.shape\n",
    "    #獲取幾行幾列\n",
    "    return X, y\n",
    "\n",
    "#Problem15和Problem16\n",
    "#設式中x0均為1\n",
    "#Problem15\n",
    "def multi_feature2(x,n,k):\n",
    "  c = np.empty((x.shape[0],0)) \n",
    "  for i in range(n):\n",
    "    for j in range(x.shape[1]):\n",
    "      h=(x[:,j]**i)\n",
    "      c=np.c_[c,h]\n",
    "  return c[:,x.shape[1]-1:x.shape[1]*2-k]\n",
    "\n",
    "#導入train和test的資料\n",
    "X, y = train()\n",
    "X_test, y_test = test()\n",
    "\n",
    "#初始化\n",
    "V = []#用來記錄ein-eout的值\n",
    "Eout = np.array([])\n",
    "Ein = np.array([])\n",
    "\n",
    "#本例中的train集和test集的維數相等X.shape[1]=X_test.shape[1]\n",
    "for i in range(X.shape[1]):\n",
    "  X_poly=multi_feature2(X,2,i)#0是下標最大，減少至下標最小需要變成x.shape[1]-1\n",
    "\n",
    "  w_poly = inv(X_poly.T.dot(X_poly)).dot(X_poly.T).dot(y)\n",
    "  ein = np.mean(np.sign(X_poly.dot(w_poly) * y) < 0)\n",
    "  #Ein = np.append(Ein, ein)\n",
    "\n",
    "  X_test_poly=multi_feature2(X_test,2,i)\n",
    "  eout = np.mean(np.sign(X_test_poly.dot(w_poly) * y_test) < 0)\n",
    "  #Eout  = np.append(Eout, eout)\n",
    "  V=np.append(V,ein-eout)\n",
    "  \n",
    "  #print(ein-eout)\n",
    "print(V.max())\n",
    "print(np.unravel_index(np.argmax(V),V.shape))#可見下標為7，即對應為fai等於3時\n"
   ]
  },
  {
   "cell_type": "code",
   "execution_count": 256,
   "metadata": {},
   "outputs": [
    {
     "name": "stdout",
     "output_type": "stream",
     "text": [
      "[[ 0  1  2  3  4  5  6  7  8  9]\n",
      " [10 11 12 13 14 15 16 17 18 19]]\n",
      "[[ 5  8  2  4  3]\n",
      " [15 18 12 14 13]]\n"
     ]
    },
    {
     "data": {
      "text/plain": [
       "array([[ 1.,  5.,  8.,  2.,  4.,  3.],\n",
       "       [ 1., 15., 18., 12., 14., 13.]])"
      ]
     },
     "execution_count": 256,
     "metadata": {},
     "output_type": "execute_result"
    }
   ],
   "source": [
    "import numpy as np\n",
    "from sklearn.preprocessing import PolynomialFeatures  #用于生成多项式\n",
    "x=np.arange(20).reshape(2,10) #生成三行二列数组\n",
    "#reg = PolynomialFeatures(degree=2) \n",
    "#reg.fit_transform(x)\n",
    "print(x)\n",
    "\n",
    "\n",
    "def multi_feature3(x):\n",
    "  c = np.empty((x.shape[0],0)) \n",
    "  for i in range(x.shape[1]):\n",
    "\n",
    "    h=(x[:,i])\n",
    "    c=np.c_[c,h]\n",
    "\n",
    "  return c\n",
    "#np.c_[np.ones(x.shape[0]),c]\n",
    "\n",
    "list = [0, 1, 2, 3, 4, 5, 6, 7, 8, 9] \n",
    "slice = random.sample(list, 5)\n",
    "x1=x[:,slice]\n",
    "print(x1)\n",
    "np.c_[np.ones(x.shape[0]),x1]\n",
    "#multi_feature3(x1)#0是下標最大，減少至下標最小需要變成x.shape[1]-1\n",
    "#c1=x[slice]\n",
    "#print(c1)\n",
    "#c[:,x.shape[1]-1:x.shape[1]*2]\n",
    "\n",
    "#x1=x[slice]\n",
    "#print(x1)\n",
    "#multi_feature(x,3)\n"
   ]
  },
  {
   "cell_type": "code",
   "execution_count": 219,
   "metadata": {},
   "outputs": [
    {
     "name": "stdout",
     "output_type": "stream",
     "text": [
      "[3, 8, 10, 7, 1]\n",
      "[1, 2, 3, 4, 5, 6, 7, 8, 9, 10]\n"
     ]
    }
   ],
   "source": [
    "import random\n",
    "\n",
    "#print(random.randint(0,9))\n",
    "\n",
    "list = [1, 2, 3, 4, 5, 6, 7, 8, 9, 10] \n",
    "slice = random.sample(list, 5)   #从list中随机获取5个元素，作为一个片断返回 \n",
    "print(slice) \n",
    "print(list)#原有序列并没有改变。 "
   ]
  },
  {
   "cell_type": "code",
   "execution_count": 163,
   "metadata": {},
   "outputs": [
    {
     "name": "stdout",
     "output_type": "stream",
     "text": [
      "[0.33235665 0.72327856 0.79247964 0.59469971 0.24037455 0.96564183\n",
      " 0.59829275 0.37279422 0.08789023 0.2205574 ]\n",
      "[0 1 2 3 4 5 6 7 8 9]\n",
      "[0 1 2 4 5]\n"
     ]
    },
    {
     "data": {
      "text/plain": [
       "array([0.33235665, 0.72327856, 0.79247964, 0.24037455, 0.96564183])"
      ]
     },
     "execution_count": 163,
     "metadata": {},
     "output_type": "execute_result"
    }
   ],
   "source": [
    "import numpy as np\n",
    "data=np.random.random(size=10)\n",
    "print(data)\n",
    "index_1=np.random.choice(data.shape[0],5,replace=False)\n",
    "\n",
    "data1=data[index_1]\n",
    "\n",
    "index_2=np.arange(data.shape[0])\n",
    "print(index_2)\n",
    "index_2=np.delete(index_2,index_1)\n",
    "print(index_2)\n",
    "data2=data[index_2]\n",
    "data2"
   ]
  }
 ],
 "metadata": {
  "interpreter": {
   "hash": "57baa5815c940fdaff4d14510622de9616cae602444507ba5d0b6727c008cbd6"
  },
  "kernelspec": {
   "display_name": "Python 3.7.5 64-bit",
   "language": "python",
   "name": "python3"
  },
  "language_info": {
   "codemirror_mode": {
    "name": "ipython",
    "version": 3
   },
   "file_extension": ".py",
   "mimetype": "text/x-python",
   "name": "python",
   "nbconvert_exporter": "python",
   "pygments_lexer": "ipython3",
   "version": "3.7.5"
  },
  "orig_nbformat": 4
 },
 "nbformat": 4,
 "nbformat_minor": 2
}
