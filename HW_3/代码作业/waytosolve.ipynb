{
 "cells": [
  {
   "cell_type": "code",
   "execution_count": 10,
   "metadata": {},
   "outputs": [],
   "source": [
    "import numpy as np\n",
    "import matplotlib.pyplot as plt\n",
    "from numpy.linalg import inv\n",
    "from sklearn.preprocessing import PolynomialFeatures\n",
    "import random\n",
    "import pandas as pd"
   ]
  },
  {
   "cell_type": "code",
   "execution_count": 11,
   "metadata": {},
   "outputs": [],
   "source": [
    "#將網頁上的資料下載到桌面，存儲到同一個目錄下，打開命名\n",
    "def train():\n",
    "    data = np.genfromtxt(\"hw3_train.dat.txt\")\n",
    "    X = data[:, :-1]    \n",
    "    y = data[:, -1] \n",
    "    #产生数据\n",
    "    #r, d = data.shape\n",
    "    #獲取幾行幾列\n",
    "    return X, y\n",
    "\n",
    "\n",
    "def test():\n",
    "    data = np.genfromtxt(\"hw3_test.dat.txt\")\n",
    "    X = data[:, :-1]    \n",
    "    y = data[:, -1] \n",
    "    #产生数据\n",
    "    #r, d = data.shape\n",
    "    #獲取幾行幾列\n",
    "    return X, y\n"
   ]
  },
  {
   "cell_type": "code",
   "execution_count": 120,
   "metadata": {},
   "outputs": [
    {
     "name": "stdout",
     "output_type": "stream",
     "text": [
      "-0.2175116666666667\n"
     ]
    }
   ],
   "source": [
    " #初始化\n",
    "Eout = np.array([])\n",
    "Ein = np.array([])\n",
    "v = np.array([])\n",
    "\n",
    "for n in range(200):\n",
    "    X, y = train()\n",
    "    list = [0, 1, 2, 3, 4, 5, 6, 7, 8, 9] \n",
    "    slice = random.sample(list, 5)\n",
    "    x1=X[:,slice]\n",
    "    X_poly=np.c_[np.ones(X.shape[0]),x1]\n",
    "\n",
    "       \n",
    "    w_poly = inv(X_poly.T.dot(X_poly)).dot(X_poly.T).dot(y)\n",
    "\n",
    "    ein = np.mean(np.sign(X_poly.dot(w_poly) * y) < 0)\n",
    "    Ein = np.append(Ein, ein)\n",
    "\n",
    "    #導入test的資料\n",
    "    X_test, y_test = test()\n",
    "    x2=X_test[:,slice]\n",
    "    X_test_poly=np.c_[np.ones(X_test.shape[0]),x2] \n",
    "\n",
    "    eout = np.mean(np.sign(X_test_poly.dot(w_poly) * y_test) < 0)\n",
    "    Eout  = np.append(Eout, eout)\n",
    "    if n==199:\n",
    "        print(np.mean(Ein-Eout))\n",
    "    \n",
    "\n"
   ]
  },
  {
   "cell_type": "code",
   "execution_count": 12,
   "metadata": {},
   "outputs": [
    {
     "name": "stdout",
     "output_type": "stream",
     "text": [
      "[-0.33866667]\n"
     ]
    }
   ],
   "source": [
    "#Problem12，Problem13和Problem14\n",
    "def multi_feature1(x,n):\n",
    "  c = np.empty((x.shape[0],0)) \n",
    "  for i in range(n+1):\n",
    "    for j in range(x.shape[1]):\n",
    "      h=(x[:,j]**i)\n",
    "      c=np.c_[c,h]\n",
    "  return c[:,x.shape[1]-1:]\n",
    "\n",
    "X, y = train()\n",
    "\n",
    "poly = PolynomialFeatures(degree=2)#Problem14\n",
    "X_poly=poly.fit_transform(X)\n",
    "\n",
    "#X_poly = multi_feature1(X,2)#problem12時置為2，problem13時置為8\n",
    "\n",
    "#初始化\n",
    "Eout = np.array([])\n",
    "Ein = np.array([])\n",
    "\n",
    "w_poly = inv(X_poly.T.dot(X_poly)).dot(X_poly.T).dot(y)\n",
    "\n",
    "ein = np.mean(np.sign(X_poly.dot(w_poly) * y) < 0)\n",
    "Ein = np.append(Ein, ein)\n",
    "\n",
    "#導入test的資料\n",
    "X_test, y_test = test()\n",
    "#X_test_poly = multi_feature1(X_test,2)#problem12時置為2，problem13時置為8\n",
    "X_test_poly = poly.fit_transform(X_test)#Problem14\n",
    "eout = np.mean(np.sign(X_test_poly.dot(w_poly) * y_test) < 0)\n",
    "Eout  = np.append(Eout, eout)\n",
    "    \n",
    "print(Ein-Eout)"
   ]
  },
  {
   "cell_type": "code",
   "execution_count": 4,
   "metadata": {},
   "outputs": [
    {
     "data": {
      "text/plain": [
       "array([[1., 0., 1., 0., 0., 1.]])"
      ]
     },
     "execution_count": 4,
     "metadata": {},
     "output_type": "execute_result"
    }
   ],
   "source": [
    "import numpy as np\n",
    "from sklearn.preprocessing import PolynomialFeatures  #用于生成多项式\n",
    "x=np.arange(2).reshape(1,2) #生成三行二列数组\n",
    "reg = PolynomialFeatures(degree=2) \n",
    "reg.fit_transform(x)\n",
    "#print(x)"
   ]
  },
  {
   "cell_type": "code",
   "execution_count": 5,
   "metadata": {},
   "outputs": [
    {
     "data": {
      "text/plain": [
       "array([[1., 0., 1., 0., 0., 1.]])"
      ]
     },
     "execution_count": 5,
     "metadata": {},
     "output_type": "execute_result"
    }
   ],
   "source": [
    "def multi_feature(x,n):\n",
    "  c = np.empty((x.shape[0],0)) #np.empty((3,1))并不会生成一个3行1列的空数组,np.empty((3,0))才会生成3行1列空数组\n",
    "  for i in range(n+1):\n",
    "    for m in range(i,-1,-1):\n",
    "      h=(x[:,0]**m) * (x[:,1]**(i-m))\n",
    "      c=np.c_[c,h]\n",
    "  return c\n",
    "\n",
    "multi_feature(x,2)"
   ]
  },
  {
   "cell_type": "code",
   "execution_count": 6,
   "metadata": {},
   "outputs": [
    {
     "name": "stdout",
     "output_type": "stream",
     "text": [
      "n=4时，sklearn的输出是：\n",
      "[[1. 0. 1. 0. 0. 1.]]\n",
      "\n",
      "\n",
      "n=4时，函数的输出是：\n",
      "[[1. 0. 1. 0. 0. 1.]]\n"
     ]
    }
   ],
   "source": [
    "print('n=4时，sklearn的输出是：')\n",
    "reg = PolynomialFeatures(degree=2) \n",
    "print(reg.fit_transform(x))\n",
    "print('\\n')\n",
    "\n",
    "#对比\n",
    "print('n=4时，函数的输出是：')\n",
    "print(multi_feature(x,2))"
   ]
  },
  {
   "cell_type": "code",
   "execution_count": 8,
   "metadata": {},
   "outputs": [
    {
     "name": "stdout",
     "output_type": "stream",
     "text": [
      "[[0 1 2 3]\n",
      " [4 5 6 7]]\n",
      "4\n"
     ]
    },
    {
     "data": {
      "text/plain": [
       "array([[1., 0., 1., 2., 3.],\n",
       "       [1., 4., 5., 6., 7.]])"
      ]
     },
     "execution_count": 8,
     "metadata": {},
     "output_type": "execute_result"
    }
   ],
   "source": [
    "import numpy as np\n",
    "from sklearn.preprocessing import PolynomialFeatures  #用于生成多项式\n",
    "x=np.arange(8).reshape(2,4) #生成三行二列数组\n",
    "#reg = PolynomialFeatures(degree=2) \n",
    "#reg.fit_transform(x)\n",
    "print(x)\n",
    "\n",
    "def multi_feature(x,n):\n",
    "  c = np.empty((x.shape[0],0)) #np.empty((3,1))并不会生成一个3行1列的空数组,np.empty((3,0))才会生成3行1列空数组\n",
    "  for i in range(n+1):\n",
    "    for m in range(i,-1,-1):\n",
    "      h=(x[:,0]**m) * (x[:,1]**(i-m))\n",
    "      c=np.c_[c,h]\n",
    "  return c\n",
    "\n",
    "print(x.shape[1])\n",
    "def multi_feature2(x,n,k):\n",
    "  c = np.empty((x.shape[0],0)) \n",
    "  for i in range(n):\n",
    "    for j in range(x.shape[1]):\n",
    "      h=(x[:,j]**i)\n",
    "      c=np.c_[c,h]\n",
    "  return c[:,x.shape[1]-1:x.shape[1]*2-k]\n",
    "\n",
    "multi_feature2(x,2,0)#0是下標最大，減少至下標最小需要變成x.shape[1]-1\n",
    "#multi_feature(x,3)"
   ]
  },
  {
   "cell_type": "code",
   "execution_count": 95,
   "metadata": {},
   "outputs": [
    {
     "name": "stdout",
     "output_type": "stream",
     "text": [
      "[-0.32266667 -0.24833333 -0.26533333 -0.26466667 -0.32233333 -0.25233333\n",
      " -0.14433333 -0.13233333 -0.13433333 -0.13666667]\n",
      "-0.1323333333333333\n",
      "(7,)\n"
     ]
    }
   ],
   "source": [
    "#Problem15和Problem16\n",
    "#設式中x0均為1\n",
    "#Problem15\n",
    "def multi_feature2(x,n,k):\n",
    "  c = np.empty((x.shape[0],0)) \n",
    "  for i in range(n):\n",
    "    for j in range(x.shape[1]):\n",
    "      h=(x[:,j]**i)\n",
    "      c=np.c_[c,h]\n",
    "  return c[:,x.shape[1]-1:x.shape[1]*2-k]\n",
    "\n",
    "#導入train和test的資料\n",
    "X, y = train()\n",
    "X_test, y_test = test()\n",
    "\n",
    "#初始化\n",
    "V = []#用來記錄ein-eout的值\n",
    "Eout = np.array([])\n",
    "Ein = np.array([])\n",
    "\n",
    "#本例中的train集和test集的維數相等X.shape[1]=X_test.shape[1]\n",
    "for i in range(X.shape[1]):\n",
    "  X_poly=multi_feature2(X,2,i)#0是下標最大，減少至下標最小需要變成x.shape[1]-1\n",
    "\n",
    "  w_poly = inv(X_poly.T.dot(X_poly)).dot(X_poly.T).dot(y)\n",
    "  ein = np.mean(np.sign(X_poly.dot(w_poly) * y) < 0)\n",
    "  #Ein = np.append(Ein, ein)\n",
    "\n",
    "  X_test_poly=multi_feature2(X_test,2,i)\n",
    "  eout = np.mean(np.sign(X_test_poly.dot(w_poly) * y_test) < 0)\n",
    "  #Eout  = np.append(Eout, eout)\n",
    "  V=np.append(V,ein-eout)\n",
    "  \n",
    "  #print(ein-eout)\n",
    "print(V)\n",
    "print(V.max())\n",
    "print(np.unravel_index(np.argmax(V),V.shape))#可見下標為7，即對應為fai等於3時\n"
   ]
  }
 ],
 "metadata": {
  "interpreter": {
   "hash": "57baa5815c940fdaff4d14510622de9616cae602444507ba5d0b6727c008cbd6"
  },
  "kernelspec": {
   "display_name": "Python 3.7.5 64-bit",
   "language": "python",
   "name": "python3"
  },
  "language_info": {
   "codemirror_mode": {
    "name": "ipython",
    "version": 3
   },
   "file_extension": ".py",
   "mimetype": "text/x-python",
   "name": "python",
   "nbconvert_exporter": "python",
   "pygments_lexer": "ipython3",
   "version": "3.7.5"
  },
  "orig_nbformat": 4
 },
 "nbformat": 4,
 "nbformat_minor": 2
}
