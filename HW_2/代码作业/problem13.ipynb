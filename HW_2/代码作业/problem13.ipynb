{
 "cells": [
  {
   "cell_type": "code",
   "execution_count": 1,
   "metadata": {},
   "outputs": [],
   "source": [
    "import numpy as np\n",
    "import tensorflow.compat.v1 as tf\n",
    "tf.compat.v1.disable_eager_execution()\n",
    "\n",
    "\n",
    "def linear_regression(x_arr, y_arr, lam=0.2):\n",
    "    x_mat = np.mat(x_arr).T\n",
    "    y_mat = np.mat(y_arr).T\n",
    " \n",
    "    x_tx = x_mat.T * x_mat\n",
    "    denom = x_tx + np.eye(np.shape(x_mat)[1]) * lam\n",
    " \n",
    "    # if lam == 0.0\n",
    "    if np.linalg.det(denom) == 0.0:\n",
    "        print('This matrix is singular, cannot do inverse')\n",
    "        return\n",
    " \n",
    "    ws = denom.I * (x_mat.T * y_mat)\n",
    "    return ws"
   ]
  },
  {
   "cell_type": "code",
   "execution_count": 18,
   "metadata": {},
   "outputs": [
    {
     "name": "stdout",
     "output_type": "stream",
     "text": [
      "0.9642489541232236\n"
     ]
    }
   ],
   "source": [
    "if __name__ == '__main__':\n",
    "    x_vals = np.linspace(0, 1, 1000)\n",
    "    y_vals = x_vals + np.random.normal(0, 1, 1000)\n",
    "    ws = linear_regression(x_vals, y_vals)\n",
    " \n",
    "    predict = ws\n",
    "    print(predict.A[0][0])"
   ]
  },
  {
   "cell_type": "code",
   "execution_count": 5,
   "metadata": {},
   "outputs": [],
   "source": [
    "learning_rate = 0.05\n",
    "batch_size = 50\n",
    " \n",
    "x_vals = np.linspace(0, 1, 1000)\n",
    "y_vals = x_vals + np.random.normal(0, 1, 1000)\n",
    "x_vals.resize((x_vals.shape[0], 1))\n",
    "y_vals.resize((y_vals.shape[0], 1))"
   ]
  },
  {
   "cell_type": "code",
   "execution_count": 6,
   "metadata": {},
   "outputs": [],
   "source": [
    "sess = tf.Session()\n",
    "x_data = tf.placeholder(shape=[None, 1], dtype=tf.float32)\n",
    "y_target = tf.placeholder(shape=[None, 1], dtype=tf.float32)\n",
    "w = tf.Variable(tf.random_normal([1, 1]))\n",
    "model_output = tf.matmul(x_data, w)"
   ]
  },
  {
   "cell_type": "code",
   "execution_count": 7,
   "metadata": {},
   "outputs": [],
   "source": [
    "loss = tf.reduce_mean(tf.square(y_target - model_output))\n",
    "init = tf.global_variables_initializer()\n",
    "sess.run(init)\n",
    "my_opt = tf.train.GradientDescentOptimizer(learning_rate)\n",
    "train_step = my_opt.minimize(loss)"
   ]
  },
  {
   "cell_type": "code",
   "execution_count": 8,
   "metadata": {},
   "outputs": [
    {
     "name": "stdout",
     "output_type": "stream",
     "text": [
      "18.450733\n"
     ]
    }
   ],
   "source": [
    "for i in range(500):\n",
    "    rand_index = np.random.choice(len(x_vals), size=batch_size)\n",
    "    rand_x = x_vals[rand_index]\n",
    "    rand_y = y_vals[rand_index]\n",
    "    sess.run(train_step, feed_dict={x_data: rand_x, y_target: rand_y})\n",
    " \n",
    "[k] = sess.run(w)\n",
    "predict = 20 * k\n",
    "print(predict[0])"
   ]
  }
 ],
 "metadata": {
  "interpreter": {
   "hash": "57baa5815c940fdaff4d14510622de9616cae602444507ba5d0b6727c008cbd6"
  },
  "kernelspec": {
   "display_name": "Python 3.7.5 64-bit",
   "name": "python3"
  },
  "language_info": {
   "codemirror_mode": {
    "name": "ipython",
    "version": 3
   },
   "file_extension": ".py",
   "mimetype": "text/x-python",
   "name": "python",
   "nbconvert_exporter": "python",
   "pygments_lexer": "ipython3",
   "version": "3.7.5"
  },
  "orig_nbformat": 4
 },
 "nbformat": 4,
 "nbformat_minor": 2
}
